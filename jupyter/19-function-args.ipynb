{
 "cells": [
  {
   "cell_type": "markdown",
   "id": "80de13d5",
   "metadata": {},
   "source": [
    "# function \\*args\n",
    "\n",
    "if we want to pass variable number of arguments to a function then we use `*args`"
   ]
  },
  {
   "cell_type": "code",
   "execution_count": 1,
   "id": "524b9832",
   "metadata": {},
   "outputs": [
    {
     "name": "stdout",
     "output_type": "stream",
     "text": [
      "1\n",
      "3\n",
      "6\n"
     ]
    }
   ],
   "source": [
    "# in the following function we are going to add the number passed to the function\n",
    "\n",
    "def add(*args):\n",
    "    sum = 0\n",
    "    for num in args:\n",
    "        sum += num\n",
    "    return sum\n",
    "\n",
    "print(add(1))\n",
    "print(add(1,2))\n",
    "print(add(1,2,3))"
   ]
  },
  {
   "cell_type": "markdown",
   "id": "7b3c9ad9",
   "metadata": {},
   "source": [
    "The variable number of arguments passed is basically set as a tuple"
   ]
  },
  {
   "cell_type": "code",
   "execution_count": 2,
   "id": "25c152b2",
   "metadata": {},
   "outputs": [
    {
     "name": "stdout",
     "output_type": "stream",
     "text": [
      "<class 'tuple'>\n",
      "(1, 2)\n"
     ]
    }
   ],
   "source": [
    "# in the following example we will print the arguments passed to the function\n",
    "def add(*args):\n",
    "    print(type(args))\n",
    "    print(args)\n",
    "\n",
    "add(1,2)"
   ]
  }
 ],
 "metadata": {
  "kernelspec": {
   "display_name": "Python 3 (ipykernel)",
   "language": "python",
   "name": "python3"
  },
  "language_info": {
   "codemirror_mode": {
    "name": "ipython",
    "version": 3
   },
   "file_extension": ".py",
   "mimetype": "text/x-python",
   "name": "python",
   "nbconvert_exporter": "python",
   "pygments_lexer": "ipython3",
   "version": "3.9.13"
  }
 },
 "nbformat": 4,
 "nbformat_minor": 5
}
