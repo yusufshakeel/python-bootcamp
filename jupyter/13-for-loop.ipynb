{
 "cells": [
  {
   "cell_type": "markdown",
   "id": "28631afd",
   "metadata": {},
   "source": [
    "# For loop\n",
    "\n",
    "We use for loop to iterate over string, list, tuple, set, dictionary.\n",
    "\n",
    "```python\n",
    "for item in sequence:\n",
    "    # do something\n",
    "```"
   ]
  },
  {
   "cell_type": "markdown",
   "id": "43ad11f1",
   "metadata": {},
   "source": [
    "## Iterate over string"
   ]
  },
  {
   "cell_type": "code",
   "execution_count": 1,
   "id": "fc53500c",
   "metadata": {},
   "outputs": [
    {
     "name": "stdout",
     "output_type": "stream",
     "text": [
      "H\n",
      "e\n",
      "l\n",
      "l\n",
      "o\n"
     ]
    }
   ],
   "source": [
    "my_string = 'Hello'\n",
    "for char in my_string:\n",
    "    print(char)"
   ]
  },
  {
   "cell_type": "markdown",
   "id": "5af0ecfb",
   "metadata": {},
   "source": [
    "## Iterate over list"
   ]
  },
  {
   "cell_type": "code",
   "execution_count": 2,
   "id": "2191093e",
   "metadata": {},
   "outputs": [
    {
     "name": "stdout",
     "output_type": "stream",
     "text": [
      "1\n",
      "2\n",
      "3\n"
     ]
    }
   ],
   "source": [
    "my_list = [1,2,3]\n",
    "for item in my_list:\n",
    "    print(item)"
   ]
  },
  {
   "cell_type": "markdown",
   "id": "c829fa18",
   "metadata": {},
   "source": [
    "## Iterate over tuple"
   ]
  },
  {
   "cell_type": "code",
   "execution_count": 3,
   "id": "27af3d75",
   "metadata": {},
   "outputs": [
    {
     "name": "stdout",
     "output_type": "stream",
     "text": [
      "1\n",
      "2\n",
      "3\n"
     ]
    }
   ],
   "source": [
    "my_tuple = (1, 2, 3)\n",
    "for item in my_tuple:\n",
    "    print(item)"
   ]
  },
  {
   "cell_type": "markdown",
   "id": "70e896ae",
   "metadata": {},
   "source": [
    "## Iterate over set"
   ]
  },
  {
   "cell_type": "code",
   "execution_count": 4,
   "id": "0d73778d",
   "metadata": {},
   "outputs": [
    {
     "name": "stdout",
     "output_type": "stream",
     "text": [
      "1\n",
      "2\n",
      "3\n"
     ]
    }
   ],
   "source": [
    "my_set = {1, 2, 3}\n",
    "for item in my_set:\n",
    "    print(item)"
   ]
  },
  {
   "cell_type": "markdown",
   "id": "df6f0478",
   "metadata": {},
   "source": [
    "## Iterate over dictionary"
   ]
  },
  {
   "cell_type": "code",
   "execution_count": 8,
   "id": "6e317f57",
   "metadata": {},
   "outputs": [
    {
     "name": "stdout",
     "output_type": "stream",
     "text": [
      "name = yusuf shakeel\n",
      "isOnline = True\n",
      "score = 5\n"
     ]
    }
   ],
   "source": [
    "my_dictionary = {'name': 'yusuf shakeel', 'isOnline': True, 'score': 5}\n",
    "for key in my_dictionary:\n",
    "    print(key, '=', my_dictionary[key])"
   ]
  }
 ],
 "metadata": {
  "kernelspec": {
   "display_name": "Python 3 (ipykernel)",
   "language": "python",
   "name": "python3"
  },
  "language_info": {
   "codemirror_mode": {
    "name": "ipython",
    "version": 3
   },
   "file_extension": ".py",
   "mimetype": "text/x-python",
   "name": "python",
   "nbconvert_exporter": "python",
   "pygments_lexer": "ipython3",
   "version": "3.9.13"
  }
 },
 "nbformat": 4,
 "nbformat_minor": 5
}
