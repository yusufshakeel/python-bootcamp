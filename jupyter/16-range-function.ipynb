{
 "cells": [
  {
   "cell_type": "markdown",
   "id": "68478e0b",
   "metadata": {},
   "source": [
    "# range\n",
    "\n",
    "This function returns a sequence of numbers starting from 0 (default), stopping before the specified number and incrementing by 1 (default).\n",
    "\n",
    "```\n",
    "range(STOP)\n",
    "range(START,STOP)\n",
    "range(START,STOP,STEP)\n",
    "```"
   ]
  },
  {
   "cell_type": "markdown",
   "id": "e4d35c4b",
   "metadata": {},
   "source": [
    "## range(STOP)\n",
    "\n",
    "in the following example we will get a sequence of numbers starting from 0, incrementing by 1 and stopping before N."
   ]
  },
  {
   "cell_type": "code",
   "execution_count": 2,
   "id": "011605e8",
   "metadata": {},
   "outputs": [
    {
     "name": "stdout",
     "output_type": "stream",
     "text": [
      "0\n",
      "1\n",
      "2\n",
      "3\n",
      "4\n",
      "5\n"
     ]
    }
   ],
   "source": [
    "for num in range(6):\n",
    "    print(num)"
   ]
  },
  {
   "cell_type": "markdown",
   "id": "d0d5c2d0",
   "metadata": {},
   "source": [
    "## range(START,STOP)\n",
    "\n",
    "in the following example we will get a sequence of numbers starting from M, incrementing by 1 and stopping before N."
   ]
  },
  {
   "cell_type": "code",
   "execution_count": 3,
   "id": "913b1f0b",
   "metadata": {},
   "outputs": [
    {
     "name": "stdout",
     "output_type": "stream",
     "text": [
      "2\n",
      "3\n",
      "4\n",
      "5\n"
     ]
    }
   ],
   "source": [
    "for num in range(2,6):\n",
    "    print(num)"
   ]
  },
  {
   "cell_type": "markdown",
   "id": "3ad5770a",
   "metadata": {},
   "source": [
    "## range(START,STOP,STEP)\n",
    "\n",
    "in the following example we will get a sequence of numbers starting from M, incrementing by S and stopping before N."
   ]
  },
  {
   "cell_type": "code",
   "execution_count": 5,
   "id": "90a0494a",
   "metadata": {},
   "outputs": [
    {
     "name": "stdout",
     "output_type": "stream",
     "text": [
      "1\n",
      "3\n",
      "5\n",
      "7\n",
      "9\n"
     ]
    }
   ],
   "source": [
    "for num in range(1,10,2):\n",
    "    print(num)"
   ]
  }
 ],
 "metadata": {
  "kernelspec": {
   "display_name": "Python 3 (ipykernel)",
   "language": "python",
   "name": "python3"
  },
  "language_info": {
   "codemirror_mode": {
    "name": "ipython",
    "version": 3
   },
   "file_extension": ".py",
   "mimetype": "text/x-python",
   "name": "python",
   "nbconvert_exporter": "python",
   "pygments_lexer": "ipython3",
   "version": "3.9.13"
  }
 },
 "nbformat": 4,
 "nbformat_minor": 5
}
