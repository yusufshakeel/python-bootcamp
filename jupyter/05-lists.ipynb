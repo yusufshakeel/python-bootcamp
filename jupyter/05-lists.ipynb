{
 "cells": [
  {
   "cell_type": "markdown",
   "id": "3c14ffa1",
   "metadata": {},
   "source": [
    "# Lists\n",
    "\n",
    "A list is a mutable ordered sequence of elemnts of any type.\n",
    "\n",
    "Syntax:\n",
    "\n",
    "```\n",
    "my_list = ['Hello', 1, 2, True, False]\n",
    "```"
   ]
  },
  {
   "cell_type": "code",
   "execution_count": 1,
   "id": "e8364f1e",
   "metadata": {},
   "outputs": [],
   "source": [
    "my_list = ['Hello', 1, 2, True, False, 'World']"
   ]
  },
  {
   "cell_type": "markdown",
   "id": "3449c029",
   "metadata": {},
   "source": [
    "## Number of elements in the list\n",
    "\n",
    "To check the number of items in the list we use the `len()` function.\n",
    "\n",
    "Syntax:\n",
    "\n",
    "```\n",
    "number_of_elements = len(my_list)\n",
    "```"
   ]
  },
  {
   "cell_type": "code",
   "execution_count": 3,
   "id": "ed980a09",
   "metadata": {},
   "outputs": [
    {
     "name": "stdout",
     "output_type": "stream",
     "text": [
      "6\n"
     ]
    }
   ],
   "source": [
    "number_of_elements = len(my_list)\n",
    "\n",
    "print(number_of_elements)"
   ]
  },
  {
   "cell_type": "markdown",
   "id": "e70dddc4",
   "metadata": {},
   "source": [
    "## Accessing elements of a list\n",
    "\n",
    "Elements in a list are indexed starting from 0.\n",
    "\n",
    "We can pass the index of an element in a list to get it.\n",
    "\n",
    "Syntax:\n",
    "\n",
    "```\n",
    "result = my_list[index]\n",
    "```"
   ]
  },
  {
   "cell_type": "code",
   "execution_count": 5,
   "id": "6469abbf",
   "metadata": {},
   "outputs": [
    {
     "name": "stdout",
     "output_type": "stream",
     "text": [
      "Hello\n"
     ]
    }
   ],
   "source": [
    "# access the first element in the list\n",
    "result = my_list[0]\n",
    "\n",
    "print(result)"
   ]
  },
  {
   "cell_type": "markdown",
   "id": "56c6951d",
   "metadata": {},
   "source": [
    "## IndexError\n",
    "\n",
    "If we try to pass invalid index to get a value from the list then we will get the following error.\n",
    "\n",
    "```\n",
    "IndexError: list index out of range\n",
    "```\n",
    "\n",
    "Following example will throw error.\n",
    "\n",
    "```\n",
    "result = my_list[10000]\n",
    "```"
   ]
  },
  {
   "cell_type": "markdown",
   "id": "abed5e6a",
   "metadata": {},
   "source": [
    "## Join (Concatenate) two lists\n",
    "\n",
    "We can use the + operator to join two lists.\n",
    "\n",
    "Note! The original lists are not changed in this process."
   ]
  },
  {
   "cell_type": "code",
   "execution_count": 7,
   "id": "cb36be8d",
   "metadata": {},
   "outputs": [
    {
     "name": "stdout",
     "output_type": "stream",
     "text": [
      "[1, 2, 3, 4, 5]\n",
      "[1, 2, 3]\n",
      "[4, 5]\n"
     ]
    }
   ],
   "source": [
    "# Joining two lists\n",
    "list_a = [1, 2, 3]\n",
    "list_b = [4, 5]\n",
    "result = list_a + list_b\n",
    "print(result)\n",
    "print(list_a)\n",
    "print(list_b)"
   ]
  },
  {
   "cell_type": "markdown",
   "id": "3d2babbc",
   "metadata": {},
   "source": [
    "## The append function\n",
    "\n",
    "This is function is used to append an element at the end of the list.\n",
    "\n",
    "Syntax:\n",
    "\n",
    "```\n",
    "my_list.append('new element')\n",
    "```"
   ]
  },
  {
   "cell_type": "code",
   "execution_count": 12,
   "id": "a8c7b425",
   "metadata": {},
   "outputs": [
    {
     "name": "stdout",
     "output_type": "stream",
     "text": [
      "[1, 2, 3, 4]\n",
      "[1, 2, 3, 4, 'Hello, World!']\n"
     ]
    }
   ],
   "source": [
    "# append elements to the list\n",
    "some_list = [1, 2, 3]\n",
    "\n",
    "some_list.append(4)\n",
    "print(some_list)\n",
    "\n",
    "some_list.append('Hello, World!')\n",
    "print(some_list)"
   ]
  },
  {
   "cell_type": "markdown",
   "id": "f51e0802",
   "metadata": {},
   "source": [
    "## Get elements from index M till the end\n",
    "\n",
    "Syntax:\n",
    "\n",
    "```\n",
    "my_list[M:]\n",
    "```"
   ]
  },
  {
   "cell_type": "code",
   "execution_count": 8,
   "id": "0ae15938",
   "metadata": {},
   "outputs": [
    {
     "name": "stdout",
     "output_type": "stream",
     "text": [
      "[True, False, 'World']\n"
     ]
    }
   ],
   "source": [
    "# get all elements from index 3 onwards\n",
    "result = my_list[3:]\n",
    "print(result)"
   ]
  },
  {
   "cell_type": "markdown",
   "id": "864861f8",
   "metadata": {},
   "source": [
    "## Get elements from index M and up to but not including index N\n",
    "\n",
    "Syntax:\n",
    "\n",
    "```\n",
    "my_list[M:N]\n",
    "```"
   ]
  },
  {
   "cell_type": "code",
   "execution_count": 9,
   "id": "9383ac8c",
   "metadata": {},
   "outputs": [
    {
     "name": "stdout",
     "output_type": "stream",
     "text": [
      "[2, True, False]\n"
     ]
    }
   ],
   "source": [
    "# get all elements from index 2 and up to but not including index 5\n",
    "result = my_list[2:5]\n",
    "print(result)"
   ]
  },
  {
   "cell_type": "markdown",
   "id": "2f0dee3a",
   "metadata": {},
   "source": [
    "## Sorting\n",
    "\n",
    "We can sort elements of a list using the `sort()` function.\n",
    "\n",
    "Note! This will mutate the original list."
   ]
  },
  {
   "cell_type": "code",
   "execution_count": 14,
   "id": "9087fcbc",
   "metadata": {},
   "outputs": [
    {
     "name": "stdout",
     "output_type": "stream",
     "text": [
      "Before [10, 2, 5, 1, 3, 4]\n",
      "After [1, 2, 3, 4, 5, 10]\n"
     ]
    }
   ],
   "source": [
    "# in the following example we are sorting a list\n",
    "my_list = [10, 2, 5, 1, 3, 4]\n",
    "print('Before {}'.format(my_list))\n",
    "my_list.sort()\n",
    "print('After {}'.format(my_list))"
   ]
  },
  {
   "cell_type": "markdown",
   "id": "a884f9e8",
   "metadata": {},
   "source": [
    "## Reverse a list\n",
    "\n",
    "To reverse a list we use the `reverse{}` function.\n",
    "\n",
    "Note! This will mutate the original list."
   ]
  },
  {
   "cell_type": "code",
   "execution_count": 15,
   "id": "7b022dde",
   "metadata": {},
   "outputs": [
    {
     "name": "stdout",
     "output_type": "stream",
     "text": [
      "Before [1, 2, 3]\n",
      "After [3, 2, 1]\n"
     ]
    }
   ],
   "source": [
    "# in the following example we are reversing a list\n",
    "my_list = [1, 2, 3]\n",
    "print('Before {}'.format(my_list))\n",
    "my_list.reverse()\n",
    "print('After {}'.format(my_list))"
   ]
  }
 ],
 "metadata": {
  "kernelspec": {
   "display_name": "Python 3 (ipykernel)",
   "language": "python",
   "name": "python3"
  },
  "language_info": {
   "codemirror_mode": {
    "name": "ipython",
    "version": 3
   },
   "file_extension": ".py",
   "mimetype": "text/x-python",
   "name": "python",
   "nbconvert_exporter": "python",
   "pygments_lexer": "ipython3",
   "version": "3.9.13"
  }
 },
 "nbformat": 4,
 "nbformat_minor": 5
}
