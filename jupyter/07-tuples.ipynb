{
 "cells": [
  {
   "cell_type": "markdown",
   "id": "3a0bda3c",
   "metadata": {},
   "source": [
    "# Tuples\n",
    "\n",
    "It is an immutable ordered sequence of items.\n",
    "\n",
    "Once a tuple is created, it cannot be changed.\n",
    "\n",
    "They are very similar to List."
   ]
  },
  {
   "cell_type": "code",
   "execution_count": 2,
   "id": "0de3d044",
   "metadata": {},
   "outputs": [
    {
     "name": "stdout",
     "output_type": "stream",
     "text": [
      "('Yusuf', 'yusuf@example.com')\n"
     ]
    }
   ],
   "source": [
    "# Example of a tuple\n",
    "my_tuple = ('Yusuf', 'yusuf@example.com')\n",
    "print(my_tuple)"
   ]
  },
  {
   "cell_type": "markdown",
   "id": "107ffbed",
   "metadata": {},
   "source": [
    "# Accessing element in a tuple\n",
    "\n",
    "We use the index. First element is at index 0."
   ]
  },
  {
   "cell_type": "code",
   "execution_count": 3,
   "id": "39971668",
   "metadata": {},
   "outputs": [
    {
     "name": "stdout",
     "output_type": "stream",
     "text": [
      "yusuf@example.com\n"
     ]
    }
   ],
   "source": [
    "# access the element in a tuple.\n",
    "# following will print the element at index 1 in tuple my_tuple\n",
    "print(my_tuple[1])"
   ]
  },
  {
   "cell_type": "markdown",
   "id": "bb4a0a0b",
   "metadata": {},
   "source": [
    "# Count element in a tuple\n",
    "\n",
    "We use the count() function to count the number of times a given element appears in a tuple."
   ]
  },
  {
   "cell_type": "code",
   "execution_count": 4,
   "id": "0e237808",
   "metadata": {},
   "outputs": [
    {
     "name": "stdout",
     "output_type": "stream",
     "text": [
      "2\n"
     ]
    }
   ],
   "source": [
    "# Count number of times apple appear in the tuple\n",
    "fruits_tuple = ('apple', 'mango', 'orange', 'apple', 'banana')\n",
    "print(fruits_tuple.count('apple'))"
   ]
  },
  {
   "cell_type": "markdown",
   "id": "a61b6a0e",
   "metadata": {},
   "source": [
    "# Index of the first occurrence of an element in a tuple\n",
    "\n",
    "We use the index() function to print the index of the first occurrence of an element."
   ]
  },
  {
   "cell_type": "code",
   "execution_count": 5,
   "id": "37c74d21",
   "metadata": {},
   "outputs": [
    {
     "name": "stdout",
     "output_type": "stream",
     "text": [
      "0\n"
     ]
    }
   ],
   "source": [
    "# print the first occurrence of apple in the fruits_tuple\n",
    "print(fruits_tuple.index('apple'))"
   ]
  },
  {
   "cell_type": "code",
   "execution_count": 6,
   "id": "749682a1",
   "metadata": {},
   "outputs": [
    {
     "name": "stdout",
     "output_type": "stream",
     "text": [
      "4\n"
     ]
    }
   ],
   "source": [
    "# print the first occurrence of banana in the fruits_tuple\n",
    "print(fruits_tuple.index('banana'))"
   ]
  },
  {
   "cell_type": "markdown",
   "id": "9ccf4461",
   "metadata": {},
   "source": [
    "# Tuple is immutable\n",
    "\n",
    "We will get error if we try to change or mutate a tuple."
   ]
  },
  {
   "cell_type": "code",
   "execution_count": 8,
   "id": "2dfb9827",
   "metadata": {},
   "outputs": [],
   "source": [
    "# creating a tuple\n",
    "coordinate = (10, 20)\n",
    "\n",
    "# following will throw error\n",
    "# coordinate[1] = 10\n",
    "\n",
    "# TypeError: 'tuple' object does not support item assignment"
   ]
  }
 ],
 "metadata": {
  "kernelspec": {
   "display_name": "Python 3 (ipykernel)",
   "language": "python",
   "name": "python3"
  },
  "language_info": {
   "codemirror_mode": {
    "name": "ipython",
    "version": 3
   },
   "file_extension": ".py",
   "mimetype": "text/x-python",
   "name": "python",
   "nbconvert_exporter": "python",
   "pygments_lexer": "ipython3",
   "version": "3.9.13"
  }
 },
 "nbformat": 4,
 "nbformat_minor": 5
}
