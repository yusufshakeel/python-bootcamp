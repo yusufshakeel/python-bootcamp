{
 "cells": [
  {
   "cell_type": "markdown",
   "id": "c85c4216",
   "metadata": {},
   "source": [
    "# Sets\n",
    "\n",
    "These are unordered collection of unique elements."
   ]
  },
  {
   "cell_type": "code",
   "execution_count": 1,
   "id": "bb840c01",
   "metadata": {},
   "outputs": [
    {
     "name": "stdout",
     "output_type": "stream",
     "text": [
      "{'mango', 'apple'}\n"
     ]
    }
   ],
   "source": [
    "# set of fruits\n",
    "fruits = {'apple', 'mango'}\n",
    "print(fruits)"
   ]
  },
  {
   "cell_type": "code",
   "execution_count": 2,
   "id": "d1b61475",
   "metadata": {},
   "outputs": [
    {
     "name": "stdout",
     "output_type": "stream",
     "text": [
      "{'mango', 'apple'}\n"
     ]
    }
   ],
   "source": [
    "# another way to create a set\n",
    "fruits = set()\n",
    "fruits.add('apple')\n",
    "fruits.add('mango')\n",
    "print(fruits)"
   ]
  },
  {
   "cell_type": "markdown",
   "id": "28c603a6",
   "metadata": {},
   "source": [
    "### Nothing happens when we add sample element to a set multiple times"
   ]
  },
  {
   "cell_type": "code",
   "execution_count": 3,
   "id": "30f40f0d",
   "metadata": {},
   "outputs": [
    {
     "name": "stdout",
     "output_type": "stream",
     "text": [
      "{'mango', 'apple'}\n"
     ]
    }
   ],
   "source": [
    "# in the following example we are adding apple again to the set\n",
    "fruits.add('apple')\n",
    "fruits.add('apple')\n",
    "fruits.add('apple')\n",
    "fruits.add('apple')\n",
    "fruits.add('apple')\n",
    "print(fruits)"
   ]
  },
  {
   "cell_type": "markdown",
   "id": "02b254a0",
   "metadata": {},
   "source": [
    "## Converting a list into a set\n",
    "\n",
    "This is useful if we have a list of elements (may have repeated elements) and we want to convert it into a set of unordered unique elements."
   ]
  },
  {
   "cell_type": "code",
   "execution_count": 4,
   "id": "77a86802",
   "metadata": {},
   "outputs": [
    {
     "name": "stdout",
     "output_type": "stream",
     "text": [
      "{1, 2, 3, 4, 5, 6, 7}\n"
     ]
    }
   ],
   "source": [
    "my_list = [1, 2, 3, 1, 3, 4, 6, 5, 6, 7]\n",
    "my_set = set(my_list)\n",
    "print(my_set)"
   ]
  },
  {
   "cell_type": "markdown",
   "id": "930765a0",
   "metadata": {},
   "source": [
    "## Converting a string into a set\n",
    "\n",
    "When we covert a string into a set then that set contains unique characters present in the string."
   ]
  },
  {
   "cell_type": "code",
   "execution_count": 1,
   "id": "88f70b24",
   "metadata": {},
   "outputs": [
    {
     "name": "stdout",
     "output_type": "stream",
     "text": [
      "{'e', 'o', 'H', 'l'}\n"
     ]
    }
   ],
   "source": [
    "my_string = 'Hello'\n",
    "my_set = set(my_string)\n",
    "print(my_set)"
   ]
  }
 ],
 "metadata": {
  "kernelspec": {
   "display_name": "Python 3 (ipykernel)",
   "language": "python",
   "name": "python3"
  },
  "language_info": {
   "codemirror_mode": {
    "name": "ipython",
    "version": 3
   },
   "file_extension": ".py",
   "mimetype": "text/x-python",
   "name": "python",
   "nbconvert_exporter": "python",
   "pygments_lexer": "ipython3",
   "version": "3.9.13"
  }
 },
 "nbformat": 4,
 "nbformat_minor": 5
}
