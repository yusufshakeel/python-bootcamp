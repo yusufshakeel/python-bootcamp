{
 "cells": [
  {
   "cell_type": "markdown",
   "id": "0b24dba4",
   "metadata": {},
   "source": [
    "# if elif else\n",
    "\n",
    "Conditional are used to decide which block of code to execute based on certain criteria,"
   ]
  },
  {
   "cell_type": "markdown",
   "id": "f8c90a97",
   "metadata": {},
   "source": [
    "## if\n",
    "\n",
    "```python\n",
    "if CONDITION:\n",
    "  # do something\n",
    "```\n",
    "\n",
    "if CONDITION is True then body of if-block is executed, otherwise it is ignored"
   ]
  },
  {
   "cell_type": "code",
   "execution_count": 7,
   "id": "293c253c",
   "metadata": {},
   "outputs": [
    {
     "name": "stdout",
     "output_type": "stream",
     "text": [
      "This is if example\n",
      "I am inside if block\n",
      "end of program\n"
     ]
    }
   ],
   "source": [
    "# in the following example we will enter the if block\n",
    "print('This is if example')\n",
    "if 10 > 2:\n",
    "    print('I am inside if block')\n",
    "print('end of program')"
   ]
  },
  {
   "cell_type": "code",
   "execution_count": 8,
   "id": "3cbf6a21",
   "metadata": {},
   "outputs": [
    {
     "name": "stdout",
     "output_type": "stream",
     "text": [
      "This is if example\n",
      "end of program\n"
     ]
    }
   ],
   "source": [
    "# in the following example we will skip the if block\n",
    "print('This is if example')\n",
    "if 10 == 2:\n",
    "    print('I am inside if block')\n",
    "print('end of program')"
   ]
  },
  {
   "cell_type": "markdown",
   "id": "f275295b",
   "metadata": {},
   "source": [
    "## else\n",
    "\n",
    "```python\n",
    "if CONDITION:\n",
    "  # do something\n",
    "else:\n",
    "  # do something else\n",
    "```\n",
    "\n",
    "if CONDITION is True then body of if-block is executed, otherwise else-block is executed."
   ]
  },
  {
   "cell_type": "code",
   "execution_count": 9,
   "id": "655f9432",
   "metadata": {},
   "outputs": [
    {
     "name": "stdout",
     "output_type": "stream",
     "text": [
      "This is if example\n",
      "I am inside else block\n",
      "end of program\n"
     ]
    }
   ],
   "source": [
    "# in the following example we will skip the if block and enter the else block\n",
    "print('This is if example')\n",
    "if 10 == 2:\n",
    "    print('I am inside if block')\n",
    "else:\n",
    "    print('I am inside else block')\n",
    "print('end of program')"
   ]
  },
  {
   "cell_type": "markdown",
   "id": "06db7a88",
   "metadata": {},
   "source": [
    "## elif\n",
    "\n",
    "We use this when we want multiple conditions.\n",
    "\n",
    "```python\n",
    "if CONDITION_1:\n",
    "    # if-block 1\n",
    "elif CONDITION_2:\n",
    "    # elif-block 1\n",
    "elif CONDITION_3:\n",
    "    # elif-block 2\n",
    "else:\n",
    "    # else-block\n",
    "```"
   ]
  },
  {
   "cell_type": "code",
   "execution_count": 10,
   "id": "135d0375",
   "metadata": {},
   "outputs": [
    {
     "name": "stdout",
     "output_type": "stream",
     "text": [
      "number is less than zero\n"
     ]
    }
   ],
   "source": [
    "# multiple conditions\n",
    "my_number = -1\n",
    "if my_number > 0:\n",
    "    print('number is greater than zero')\n",
    "elif my_number == 0:\n",
    "    print('number is zero')\n",
    "else:\n",
    "    print('number is less than zero')"
   ]
  }
 ],
 "metadata": {
  "kernelspec": {
   "display_name": "Python 3 (ipykernel)",
   "language": "python",
   "name": "python3"
  },
  "language_info": {
   "codemirror_mode": {
    "name": "ipython",
    "version": 3
   },
   "file_extension": ".py",
   "mimetype": "text/x-python",
   "name": "python",
   "nbconvert_exporter": "python",
   "pygments_lexer": "ipython3",
   "version": "3.9.13"
  }
 },
 "nbformat": 4,
 "nbformat_minor": 5
}
