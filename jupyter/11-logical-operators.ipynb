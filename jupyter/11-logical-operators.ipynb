{
 "cells": [
  {
   "cell_type": "markdown",
   "id": "fe481eb7",
   "metadata": {},
   "source": [
    "# Logical Operators"
   ]
  },
  {
   "cell_type": "markdown",
   "id": "4819a036",
   "metadata": {},
   "source": [
    "### Logical and\n",
    "\n",
    "if all conditions are True then we will get True else False."
   ]
  },
  {
   "cell_type": "code",
   "execution_count": 3,
   "id": "13e95215",
   "metadata": {},
   "outputs": [
    {
     "name": "stdout",
     "output_type": "stream",
     "text": [
      "True\n"
     ]
    }
   ],
   "source": [
    "print(10 > 2 and 20 < 30 and 100 == 100)"
   ]
  },
  {
   "cell_type": "code",
   "execution_count": 2,
   "id": "7c8c177e",
   "metadata": {},
   "outputs": [
    {
     "name": "stdout",
     "output_type": "stream",
     "text": [
      "False\n"
     ]
    }
   ],
   "source": [
    "print(10 > 2 and 20 < 1)"
   ]
  },
  {
   "cell_type": "markdown",
   "id": "10030e4f",
   "metadata": {},
   "source": [
    "### Logical or\n",
    "\n",
    "if any one condition is True then we will get True"
   ]
  },
  {
   "cell_type": "code",
   "execution_count": 4,
   "id": "e18fe3f2",
   "metadata": {},
   "outputs": [
    {
     "name": "stdout",
     "output_type": "stream",
     "text": [
      "True\n"
     ]
    }
   ],
   "source": [
    "print(10 > 20 or 20 < 30)"
   ]
  },
  {
   "cell_type": "code",
   "execution_count": 5,
   "id": "b423f2dc",
   "metadata": {},
   "outputs": [
    {
     "name": "stdout",
     "output_type": "stream",
     "text": [
      "True\n"
     ]
    }
   ],
   "source": [
    "print(1 > 0 or 2 < 3)"
   ]
  },
  {
   "cell_type": "code",
   "execution_count": 6,
   "id": "fe8bd9e9",
   "metadata": {},
   "outputs": [
    {
     "name": "stdout",
     "output_type": "stream",
     "text": [
      "False\n"
     ]
    }
   ],
   "source": [
    "print(7 > 10 or 12 < 5)"
   ]
  },
  {
   "cell_type": "markdown",
   "id": "07b101a9",
   "metadata": {},
   "source": [
    "### Logical not\n",
    "\n",
    "this reverses the boolean result.\n",
    "\n",
    "if condition is True then not makes it False and vice-versa"
   ]
  },
  {
   "cell_type": "code",
   "execution_count": 7,
   "id": "4adbbd07",
   "metadata": {},
   "outputs": [
    {
     "name": "stdout",
     "output_type": "stream",
     "text": [
      "False\n"
     ]
    }
   ],
   "source": [
    "print(not 10 > 1)"
   ]
  },
  {
   "cell_type": "code",
   "execution_count": 8,
   "id": "245b7551",
   "metadata": {},
   "outputs": [
    {
     "name": "stdout",
     "output_type": "stream",
     "text": [
      "True\n"
     ]
    }
   ],
   "source": [
    "print(not 100 < 1)"
   ]
  }
 ],
 "metadata": {
  "kernelspec": {
   "display_name": "Python 3 (ipykernel)",
   "language": "python",
   "name": "python3"
  },
  "language_info": {
   "codemirror_mode": {
    "name": "ipython",
    "version": 3
   },
   "file_extension": ".py",
   "mimetype": "text/x-python",
   "name": "python",
   "nbconvert_exporter": "python",
   "pygments_lexer": "ipython3",
   "version": "3.9.13"
  }
 },
 "nbformat": 4,
 "nbformat_minor": 5
}
