{
 "cells": [
  {
   "cell_type": "markdown",
   "id": "46930645",
   "metadata": {},
   "source": [
    "# pass, break, continue\n",
    "\n",
    "We use the `pass` keyword in a loop (like `while`, `for`) to do nothing.\n",
    "\n",
    "We use the `break` keyword in a loop to break out of the loop body.\n",
    "\n",
    "We use the `continue` keyword to continue with the next iteration of the loop."
   ]
  },
  {
   "cell_type": "markdown",
   "id": "b3386fa0",
   "metadata": {},
   "source": [
    "## pass"
   ]
  },
  {
   "cell_type": "code",
   "execution_count": 1,
   "id": "b3525376",
   "metadata": {},
   "outputs": [],
   "source": [
    "# in the following example we will simple pass the loop\n",
    "my_list = [1,2,3,4,5]\n",
    "for item in my_list:\n",
    "    pass"
   ]
  },
  {
   "cell_type": "markdown",
   "id": "b4534724",
   "metadata": {},
   "source": [
    "As you can see we are doing nothing inside the for loop body so we have add the keyword `pass` inside the loop body.\n",
    "\n",
    "if we just put a comment line in the `for` loop body then it will give us error.\n",
    "\n",
    "```python\n",
    "for num in my_list:\n",
    "    # do nothing\n",
    "```\n",
    "\n",
    "Error\n",
    "```\n",
    "IndentationError: expected an indented block\n",
    "```"
   ]
  },
  {
   "cell_type": "markdown",
   "id": "8eef39c5",
   "metadata": {},
   "source": [
    "## break"
   ]
  },
  {
   "cell_type": "code",
   "execution_count": 2,
   "id": "1fbbc3bb",
   "metadata": {},
   "outputs": [
    {
     "name": "stdout",
     "output_type": "stream",
     "text": [
      "1\n",
      "2\n",
      "exiting the loop...\n",
      "end of program\n"
     ]
    }
   ],
   "source": [
    "# in the following example we will break out of the loop if we encounter a number divisible by 3\n",
    "my_numbers = [1,2,3,4,5,6,7,8,9,10]\n",
    "for num in my_numbers:\n",
    "    if num % 3 == 0:\n",
    "        print('exiting the loop...')\n",
    "        break\n",
    "    print(num)\n",
    "print('end of program')"
   ]
  },
  {
   "cell_type": "markdown",
   "id": "35b0d8ac",
   "metadata": {},
   "source": [
    "## continue"
   ]
  },
  {
   "cell_type": "code",
   "execution_count": 3,
   "id": "a1596701",
   "metadata": {},
   "outputs": [
    {
     "name": "stdout",
     "output_type": "stream",
     "text": [
      "1\n",
      "2\n",
      "skipping 3\n",
      "4\n",
      "5\n",
      "skipping 6\n",
      "7\n",
      "8\n",
      "skipping 9\n",
      "10\n",
      "end of program\n"
     ]
    }
   ],
   "source": [
    "# in the following example we are going to skip the number that are divisible by 3\n",
    "my_numbers = [1,2,3,4,5,6,7,8,9,10]\n",
    "for num in my_numbers:\n",
    "    if num % 3 == 0:\n",
    "        print(f'skipping {num}')\n",
    "        continue\n",
    "    print(num)\n",
    "print('end of program')"
   ]
  }
 ],
 "metadata": {
  "kernelspec": {
   "display_name": "Python 3 (ipykernel)",
   "language": "python",
   "name": "python3"
  },
  "language_info": {
   "codemirror_mode": {
    "name": "ipython",
    "version": 3
   },
   "file_extension": ".py",
   "mimetype": "text/x-python",
   "name": "python",
   "nbconvert_exporter": "python",
   "pygments_lexer": "ipython3",
   "version": "3.9.13"
  }
 },
 "nbformat": 4,
 "nbformat_minor": 5
}
