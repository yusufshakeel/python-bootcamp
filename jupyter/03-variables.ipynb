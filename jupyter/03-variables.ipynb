{
 "cells": [
  {
   "cell_type": "markdown",
   "id": "1a8aece9",
   "metadata": {},
   "source": [
    "# Variables"
   ]
  },
  {
   "cell_type": "markdown",
   "id": "43a6f308",
   "metadata": {},
   "source": [
    "```\n",
    "Variables are used to store values and refer them later.\n",
    "\n",
    "Python is dynamic typed programming language. This means we can assign and then reassign any types of value to a given variable.\n",
    "\n",
    "Example:\n",
    "\n",
    "x = 10\n",
    "\n",
    "x = 'Hello, World!'\n",
    "```"
   ]
  },
  {
   "cell_type": "code",
   "execution_count": 1,
   "id": "ea2237ef",
   "metadata": {},
   "outputs": [],
   "source": [
    "# creating a variable that saves numeric value\n",
    "x = 10"
   ]
  },
  {
   "cell_type": "code",
   "execution_count": 2,
   "id": "89c23f12",
   "metadata": {},
   "outputs": [
    {
     "name": "stdout",
     "output_type": "stream",
     "text": [
      "10\n"
     ]
    }
   ],
   "source": [
    "print(x)"
   ]
  },
  {
   "cell_type": "code",
   "execution_count": 3,
   "id": "94e3aaf5",
   "metadata": {},
   "outputs": [],
   "source": [
    "# reassiging string value to the same variable\n",
    "x = 'Hello, World!'"
   ]
  },
  {
   "cell_type": "code",
   "execution_count": 4,
   "id": "cc9d35f9",
   "metadata": {},
   "outputs": [
    {
     "name": "stdout",
     "output_type": "stream",
     "text": [
      "Hello, World!\n"
     ]
    }
   ],
   "source": [
    "print(x)"
   ]
  },
  {
   "cell_type": "markdown",
   "id": "179620a0",
   "metadata": {},
   "source": [
    "# How to know the type of value saved in a variable?"
   ]
  },
  {
   "cell_type": "markdown",
   "id": "2c525016",
   "metadata": {},
   "source": [
    "```\n",
    "We use the type() function.\n",
    "```"
   ]
  },
  {
   "cell_type": "code",
   "execution_count": 6,
   "id": "7bfc0156",
   "metadata": {},
   "outputs": [
    {
     "data": {
      "text/plain": [
       "int"
      ]
     },
     "execution_count": 6,
     "metadata": {},
     "output_type": "execute_result"
    }
   ],
   "source": [
    "# print the type of the variable\n",
    "x = 10\n",
    "type(x)"
   ]
  },
  {
   "cell_type": "markdown",
   "id": "83a6770c",
   "metadata": {},
   "source": [
    "# Exercise: Compute simple interest"
   ]
  },
  {
   "cell_type": "code",
   "execution_count": 8,
   "id": "81d60349",
   "metadata": {},
   "outputs": [
    {
     "name": "stdout",
     "output_type": "stream",
     "text": [
      "400.0\n"
     ]
    }
   ],
   "source": [
    "principal = 1000\n",
    "interest_rate = 20 # this is in percentage\n",
    "time = 2\n",
    "\n",
    "simple_interest = (principal * interest_rate * time)/100\n",
    "\n",
    "print(simple_interest)"
   ]
  }
 ],
 "metadata": {
  "kernelspec": {
   "display_name": "Python 3 (ipykernel)",
   "language": "python",
   "name": "python3"
  },
  "language_info": {
   "codemirror_mode": {
    "name": "ipython",
    "version": 3
   },
   "file_extension": ".py",
   "mimetype": "text/x-python",
   "name": "python",
   "nbconvert_exporter": "python",
   "pygments_lexer": "ipython3",
   "version": "3.9.13"
  }
 },
 "nbformat": 4,
 "nbformat_minor": 5
}
