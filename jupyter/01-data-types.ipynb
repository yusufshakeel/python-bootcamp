{
 "cells": [
  {
   "cell_type": "markdown",
   "id": "8715eae5",
   "metadata": {},
   "source": [
    "# Data types"
   ]
  },
  {
   "cell_type": "markdown",
   "id": "73028c98",
   "metadata": {},
   "source": [
    "```\n",
    "int - Integer\n",
    "float - Floating point\n",
    "str - String - this is an ordered sequence of characters. Example: `'hello, world!'`, `\"My name is Yusuf\"`\n",
    "list - List - this is an order sequence of objects. Example: `[1, 2, 3.14, \"happy\"]`\n",
    "dict - Dictionary - this is an unordered key-value data structure. Example: `{\"key\": \"value\"}`\n",
    "tup - Tuples - this is an ordered immutable sequence of objects. Example: `(2,3)`\n",
    "set - Sets - this is an unordered collection of unique objets. Example: `{1, 2, \"Hello, World!\"}`\n",
    "bool - Boolean - this takes True and False value.\n",
    "```"
   ]
  },
  {
   "cell_type": "code",
   "execution_count": null,
   "id": "1bbce6f7",
   "metadata": {},
   "outputs": [],
   "source": []
  }
 ],
 "metadata": {
  "kernelspec": {
   "display_name": "Python 3 (ipykernel)",
   "language": "python",
   "name": "python3"
  },
  "language_info": {
   "codemirror_mode": {
    "name": "ipython",
    "version": 3
   },
   "file_extension": ".py",
   "mimetype": "text/x-python",
   "name": "python",
   "nbconvert_exporter": "python",
   "pygments_lexer": "ipython3",
   "version": "3.9.13"
  }
 },
 "nbformat": 4,
 "nbformat_minor": 5
}
