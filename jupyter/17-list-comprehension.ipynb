{
 "cells": [
  {
   "cell_type": "markdown",
   "id": "60b2fbb7",
   "metadata": {},
   "source": [
    "# List Comprehension\n",
    "\n",
    "This is a compact way to create a list."
   ]
  },
  {
   "cell_type": "markdown",
   "id": "affb94d0",
   "metadata": {},
   "source": [
    "## create list using range function"
   ]
  },
  {
   "cell_type": "code",
   "execution_count": 1,
   "id": "ae55392f",
   "metadata": {},
   "outputs": [
    {
     "name": "stdout",
     "output_type": "stream",
     "text": [
      "[1, 2, 3, 4, 5, 6, 7, 8, 9, 10]\n"
     ]
    }
   ],
   "source": [
    "# in the following example we are using for loop to create a list on numbers from 1 to 10\n",
    "my_list = []\n",
    "for num in range(1,11):\n",
    "    my_list.append(num)\n",
    "print(my_list)"
   ]
  },
  {
   "cell_type": "markdown",
   "id": "c136063f",
   "metadata": {},
   "source": [
    "## create list using range and list comprehension"
   ]
  },
  {
   "cell_type": "code",
   "execution_count": 2,
   "id": "fdd8b9d6",
   "metadata": {},
   "outputs": [
    {
     "name": "stdout",
     "output_type": "stream",
     "text": [
      "[1, 2, 3, 4, 5, 6, 7, 8, 9, 10]\n"
     ]
    }
   ],
   "source": [
    "# we can achieve the same result using list comprehension\n",
    "my_list = [num for num in range(1,11)]\n",
    "print(my_list)"
   ]
  },
  {
   "cell_type": "markdown",
   "id": "597f3c3c",
   "metadata": {},
   "source": [
    "## create list using range function and condition"
   ]
  },
  {
   "cell_type": "code",
   "execution_count": 3,
   "id": "0e91c150",
   "metadata": {},
   "outputs": [
    {
     "name": "stdout",
     "output_type": "stream",
     "text": [
      "[0, 3, 6, 9]\n"
     ]
    }
   ],
   "source": [
    "# in the following example we are only taking numbers that a divisible by 3\n",
    "my_list = []\n",
    "for num in range(10):\n",
    "    if num % 3 == 0:\n",
    "        my_list.append(num)\n",
    "print(my_list)"
   ]
  },
  {
   "cell_type": "markdown",
   "id": "a6497a42",
   "metadata": {},
   "source": [
    "## create list using range function and condition and list comprehension"
   ]
  },
  {
   "cell_type": "code",
   "execution_count": 4,
   "id": "281388af",
   "metadata": {},
   "outputs": [
    {
     "name": "stdout",
     "output_type": "stream",
     "text": [
      "[0, 3, 6, 9]\n"
     ]
    }
   ],
   "source": [
    "# in the following example we are going to achieve the same result as above using list comprehension\n",
    "my_list = [num for num in range(10) if num % 3 == 0]\n",
    "print(my_list)"
   ]
  }
 ],
 "metadata": {
  "kernelspec": {
   "display_name": "Python 3 (ipykernel)",
   "language": "python",
   "name": "python3"
  },
  "language_info": {
   "codemirror_mode": {
    "name": "ipython",
    "version": 3
   },
   "file_extension": ".py",
   "mimetype": "text/x-python",
   "name": "python",
   "nbconvert_exporter": "python",
   "pygments_lexer": "ipython3",
   "version": "3.9.13"
  }
 },
 "nbformat": 4,
 "nbformat_minor": 5
}
