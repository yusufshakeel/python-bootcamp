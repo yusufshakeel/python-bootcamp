{
 "cells": [
  {
   "cell_type": "markdown",
   "id": "60b2fbb7",
   "metadata": {},
   "source": [
    "# List Comprehension\n",
    "\n",
    "This is a compact way to create a list."
   ]
  },
  {
   "cell_type": "markdown",
   "id": "affb94d0",
   "metadata": {},
   "source": [
    "## create list using range function"
   ]
  },
  {
   "cell_type": "code",
   "execution_count": 1,
   "id": "ae55392f",
   "metadata": {},
   "outputs": [
    {
     "name": "stdout",
     "output_type": "stream",
     "text": [
      "[1, 2, 3, 4, 5, 6, 7, 8, 9, 10]\n"
     ]
    }
   ],
   "source": [
    "# in the following example we are using for loop to create a list on numbers from 1 to 10\n",
    "my_list = []\n",
    "for num in range(1,11):\n",
    "    my_list.append(num)\n",
    "print(my_list)"
   ]
  },
  {
   "cell_type": "markdown",
   "id": "c136063f",
   "metadata": {},
   "source": [
    "## create list using range and list comprehension"
   ]
  },
  {
   "cell_type": "code",
   "execution_count": 2,
   "id": "fdd8b9d6",
   "metadata": {},
   "outputs": [
    {
     "name": "stdout",
     "output_type": "stream",
     "text": [
      "[1, 2, 3, 4, 5, 6, 7, 8, 9, 10]\n"
     ]
    }
   ],
   "source": [
    "# we can achieve the same result using list comprehension\n",
    "my_list = [num for num in range(1,11)]\n",
    "print(my_list)"
   ]
  },
  {
   "cell_type": "markdown",
   "id": "597f3c3c",
   "metadata": {},
   "source": [
    "## create list using range function and condition"
   ]
  },
  {
   "cell_type": "code",
   "execution_count": 3,
   "id": "0e91c150",
   "metadata": {},
   "outputs": [
    {
     "name": "stdout",
     "output_type": "stream",
     "text": [
      "[0, 3, 6, 9]\n"
     ]
    }
   ],
   "source": [
    "# in the following example we are only taking numbers that a divisible by 3\n",
    "my_list = []\n",
    "for num in range(10):\n",
    "    if num % 3 == 0:\n",
    "        my_list.append(num)\n",
    "print(my_list)"
   ]
  },
  {
   "cell_type": "markdown",
   "id": "a6497a42",
   "metadata": {},
   "source": [
    "## create list using range function and condition and list comprehension"
   ]
  },
  {
   "cell_type": "code",
   "execution_count": 1,
   "id": "281388af",
   "metadata": {},
   "outputs": [
    {
     "name": "stdout",
     "output_type": "stream",
     "text": [
      "[0, 3, 6, 9]\n"
     ]
    }
   ],
   "source": [
    "# in the following example we are going to achieve the same result as above using list comprehension\n",
    "my_list = [num for num in range(10) if num % 3 == 0]\n",
    "print(my_list)"
   ]
  },
  {
   "cell_type": "markdown",
   "id": "bd04df20",
   "metadata": {},
   "source": [
    "## list comprehension with two for loops"
   ]
  },
  {
   "cell_type": "code",
   "execution_count": 3,
   "id": "40eb0ed8",
   "metadata": {},
   "outputs": [
    {
     "name": "stdout",
     "output_type": "stream",
     "text": [
      "[11, 21, 31, 12, 22, 32]\n"
     ]
    }
   ],
   "source": [
    "# in the following example we are going to create a list by adding elements of two list using nested loop\n",
    "my_list = []\n",
    "for x in [1,2]:\n",
    "    for y in [10,20,30]:\n",
    "        my_list.append(x+y)\n",
    "print(my_list)"
   ]
  },
  {
   "cell_type": "code",
   "execution_count": 4,
   "id": "ee01d067",
   "metadata": {},
   "outputs": [
    {
     "name": "stdout",
     "output_type": "stream",
     "text": [
      "[11, 21, 31, 12, 22, 32]\n"
     ]
    }
   ],
   "source": [
    "# now we will achieve the same result using list comprehension\n",
    "my_list = [x+y for x in [1,2] for y in [10, 20, 30]]\n",
    "print(my_list)"
   ]
  },
  {
   "cell_type": "markdown",
   "id": "fe6d8d77",
   "metadata": {},
   "source": [
    "## if-else and list comprehension"
   ]
  },
  {
   "cell_type": "code",
   "execution_count": 5,
   "id": "4bfe6ccc",
   "metadata": {},
   "outputs": [
    {
     "name": "stdout",
     "output_type": "stream",
     "text": [
      "[0, 'SKIPPED', 2, 'SKIPPED', 4, 'SKIPPED', 6, 'SKIPPED', 8, 'SKIPPED']\n"
     ]
    }
   ],
   "source": [
    "# in the following example we are going to append a number in a list if it is even else we will append 'SKIPPED'\n",
    "my_list = []\n",
    "for num in range(10):\n",
    "    if num % 2 == 0:\n",
    "        my_list.append(num)\n",
    "    else:\n",
    "        my_list.append('SKIPPED')\n",
    "print(my_list)"
   ]
  },
  {
   "cell_type": "code",
   "execution_count": 9,
   "id": "865a1aad",
   "metadata": {},
   "outputs": [
    {
     "name": "stdout",
     "output_type": "stream",
     "text": [
      "[0, 'SKIPPED', 2, 'SKIPPED', 4, 'SKIPPED', 6, 'SKIPPED', 8, 'SKIPPED']\n"
     ]
    }
   ],
   "source": [
    "# now we will achieve the same result as above using list comprehension\n",
    "my_list = [x if x % 2 == 0 else 'SKIPPED' for x in range(10)]\n",
    "print(my_list)"
   ]
  }
 ],
 "metadata": {
  "kernelspec": {
   "display_name": "Python 3 (ipykernel)",
   "language": "python",
   "name": "python3"
  },
  "language_info": {
   "codemirror_mode": {
    "name": "ipython",
    "version": 3
   },
   "file_extension": ".py",
   "mimetype": "text/x-python",
   "name": "python",
   "nbconvert_exporter": "python",
   "pygments_lexer": "ipython3",
   "version": "3.9.13"
  }
 },
 "nbformat": 4,
 "nbformat_minor": 5
}
