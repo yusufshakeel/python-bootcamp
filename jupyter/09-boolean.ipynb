{
 "cells": [
  {
   "cell_type": "markdown",
   "id": "59423159",
   "metadata": {},
   "source": [
    "# Boolean\n",
    "\n",
    "Boolean is a data type with two values `True` and `False`.\n",
    "\n",
    "They represent whether a statement is logically true or false.\n",
    "\n",
    "Example `1 > 2` is `False` and `1 < 2` is `True`"
   ]
  },
  {
   "cell_type": "code",
   "execution_count": 3,
   "id": "6079e55b",
   "metadata": {},
   "outputs": [
    {
     "name": "stdout",
     "output_type": "stream",
     "text": [
      "Value: True Type: <class 'bool'>\n"
     ]
    }
   ],
   "source": [
    "# in the following example we are creating boolean type variable\n",
    "my_var = True\n",
    "print('Value:', my_var, 'Type:', type(my_var))"
   ]
  },
  {
   "cell_type": "code",
   "execution_count": 4,
   "id": "9f560187",
   "metadata": {},
   "outputs": [
    {
     "name": "stdout",
     "output_type": "stream",
     "text": [
      "True\n"
     ]
    }
   ],
   "source": [
    "# in the following example we are checking whether the statement is true or false\n",
    "print(7 > 1)"
   ]
  },
  {
   "cell_type": "code",
   "execution_count": 6,
   "id": "b4f0e95f",
   "metadata": {},
   "outputs": [
    {
     "name": "stdout",
     "output_type": "stream",
     "text": [
      "False\n"
     ]
    }
   ],
   "source": [
    "print(9 < 8)"
   ]
  }
 ],
 "metadata": {
  "kernelspec": {
   "display_name": "Python 3 (ipykernel)",
   "language": "python",
   "name": "python3"
  },
  "language_info": {
   "codemirror_mode": {
    "name": "ipython",
    "version": 3
   },
   "file_extension": ".py",
   "mimetype": "text/x-python",
   "name": "python",
   "nbconvert_exporter": "python",
   "pygments_lexer": "ipython3",
   "version": "3.9.13"
  }
 },
 "nbformat": 4,
 "nbformat_minor": 5
}
