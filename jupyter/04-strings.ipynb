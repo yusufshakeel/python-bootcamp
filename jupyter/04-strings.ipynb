{
 "cells": [
  {
   "cell_type": "markdown",
   "id": "50a0cab6",
   "metadata": {},
   "source": [
    "# Strings"
   ]
  },
  {
   "cell_type": "markdown",
   "id": "d17ebf05",
   "metadata": {},
   "source": [
    "```\n",
    "Strings are ordered sequence of characters wrapped in single quotes or double quotes.\n",
    "```"
   ]
  },
  {
   "cell_type": "code",
   "execution_count": 1,
   "id": "77a5977d",
   "metadata": {},
   "outputs": [],
   "source": [
    "# following is an example of a string\n",
    "sample_string = 'Hello, World!'"
   ]
  },
  {
   "cell_type": "code",
   "execution_count": 2,
   "id": "9e8ddad7",
   "metadata": {},
   "outputs": [
    {
     "name": "stdout",
     "output_type": "stream",
     "text": [
      "Hello, World!\n"
     ]
    }
   ],
   "source": [
    "print(sample_string)"
   ]
  },
  {
   "cell_type": "markdown",
   "id": "2d30f18f",
   "metadata": {},
   "source": [
    "```\n",
    "We can access the elements of a string using it index.\n",
    "\n",
    "Note! The first element of the string has index 0. The second element is at index 1 and so on.\n",
    "```"
   ]
  },
  {
   "cell_type": "code",
   "execution_count": 3,
   "id": "b449329b",
   "metadata": {},
   "outputs": [
    {
     "name": "stdout",
     "output_type": "stream",
     "text": [
      "H\n"
     ]
    }
   ],
   "source": [
    "# print the first element of the string sample_string\n",
    "print(sample_string[0])"
   ]
  },
  {
   "cell_type": "markdown",
   "id": "feda2b93",
   "metadata": {},
   "source": [
    "```\n",
    "We can even use reverse index to access the element of a string in reverse order.\n",
    "\n",
    "So, the last element of the string will have reverse index of -1.\n",
    "The second last element of the string will have reverse index of -2 and so on.\n",
    "```"
   ]
  },
  {
   "cell_type": "code",
   "execution_count": 4,
   "id": "3a46ecb7",
   "metadata": {},
   "outputs": [
    {
     "name": "stdout",
     "output_type": "stream",
     "text": [
      "!\n"
     ]
    }
   ],
   "source": [
    "# print the last element of the string sample_string\n",
    "print(sample_string[-1])"
   ]
  },
  {
   "cell_type": "code",
   "execution_count": null,
   "id": "1036124e",
   "metadata": {},
   "outputs": [],
   "source": []
  }
 ],
 "metadata": {
  "kernelspec": {
   "display_name": "Python 3 (ipykernel)",
   "language": "python",
   "name": "python3"
  },
  "language_info": {
   "codemirror_mode": {
    "name": "ipython",
    "version": 3
   },
   "file_extension": ".py",
   "mimetype": "text/x-python",
   "name": "python",
   "nbconvert_exporter": "python",
   "pygments_lexer": "ipython3",
   "version": "3.9.13"
  }
 },
 "nbformat": 4,
 "nbformat_minor": 5
}
