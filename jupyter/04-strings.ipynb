{
 "cells": [
  {
   "cell_type": "markdown",
   "id": "2ae8a32b",
   "metadata": {},
   "source": [
    "# Strings"
   ]
  },
  {
   "cell_type": "markdown",
   "id": "2b930e03",
   "metadata": {},
   "source": [
    "```\n",
    "Strings are ordered sequence of characters wrapped in single quotes or double quotes.\n",
    "```"
   ]
  },
  {
   "cell_type": "code",
   "execution_count": 27,
   "id": "99296e75",
   "metadata": {},
   "outputs": [
    {
     "name": "stdout",
     "output_type": "stream",
     "text": [
      "Hello, World!\n"
     ]
    }
   ],
   "source": [
    "# following is an example of a string\n",
    "sample_string = 'Hello, World!'\n",
    "print(sample_string)"
   ]
  },
  {
   "cell_type": "markdown",
   "id": "68d841d7",
   "metadata": {},
   "source": [
    "```\n",
    "We can access the elements of a string using it index.\n",
    "\n",
    "Note! The first element of the string has index 0. The second element is at index 1 and so on.\n",
    "```"
   ]
  },
  {
   "cell_type": "code",
   "execution_count": 3,
   "id": "6a31ba1d",
   "metadata": {},
   "outputs": [
    {
     "name": "stdout",
     "output_type": "stream",
     "text": [
      "H\n"
     ]
    }
   ],
   "source": [
    "# print the first element of the string sample_string\n",
    "print(sample_string[0])"
   ]
  },
  {
   "cell_type": "markdown",
   "id": "b65a6e04",
   "metadata": {},
   "source": [
    "```\n",
    "We can even use reverse index to access the element of a string in reverse order.\n",
    "\n",
    "So, the last element of the string will have reverse index of -1.\n",
    "The second last element of the string will have reverse index of -2 and so on.\n",
    "```"
   ]
  },
  {
   "cell_type": "code",
   "execution_count": 4,
   "id": "8e7792aa",
   "metadata": {},
   "outputs": [
    {
     "name": "stdout",
     "output_type": "stream",
     "text": [
      "!\n"
     ]
    }
   ],
   "source": [
    "# print the last element of the string sample_string\n",
    "print(sample_string[-1])"
   ]
  },
  {
   "cell_type": "markdown",
   "id": "f92ec110",
   "metadata": {},
   "source": [
    "# Length of a string"
   ]
  },
  {
   "cell_type": "markdown",
   "id": "8e1019ae",
   "metadata": {},
   "source": [
    "```\n",
    "To find number of characters in a string we using the len() function.\n",
    "```"
   ]
  },
  {
   "cell_type": "code",
   "execution_count": 12,
   "id": "7d42adcc",
   "metadata": {},
   "outputs": [
    {
     "name": "stdout",
     "output_type": "stream",
     "text": [
      "14\n"
     ]
    }
   ],
   "source": [
    "# print the number of characters in a string\n",
    "x = 'Hello, Python!'\n",
    "number_of_characters = len(x)\n",
    "print(number_of_characters)"
   ]
  },
  {
   "cell_type": "markdown",
   "id": "4a6d6d0d",
   "metadata": {},
   "source": [
    "# Slice"
   ]
  },
  {
   "cell_type": "markdown",
   "id": "72d1c9a5",
   "metadata": {},
   "source": [
    "```\n",
    "We use slicing to extract a section of the string.\n",
    "\n",
    "Syntax:\n",
    "\n",
    "str_var[start:stop:step]\n",
    "\n",
    "where,\n",
    "start is the start index. We start extraction from here.\n",
    "stop is the last index. The element at this index is not included.\n",
    "step is the number of element we hop or jump.\n",
    "```"
   ]
  },
  {
   "cell_type": "code",
   "execution_count": 6,
   "id": "b3874bc6",
   "metadata": {},
   "outputs": [
    {
     "name": "stdout",
     "output_type": "stream",
     "text": [
      "Hello, World!\n"
     ]
    }
   ],
   "source": [
    "# extract all the elements\n",
    "result = sample_string[:]\n",
    "print(result)"
   ]
  },
  {
   "cell_type": "code",
   "execution_count": 13,
   "id": "bfba01cb",
   "metadata": {},
   "outputs": [
    {
     "name": "stdout",
     "output_type": "stream",
     "text": [
      "Hello\n"
     ]
    }
   ],
   "source": [
    "# extract from start and up to but not including index 5\n",
    "result = sample_string[:5]\n",
    "print(result)"
   ]
  },
  {
   "cell_type": "code",
   "execution_count": 7,
   "id": "2aac0060",
   "metadata": {},
   "outputs": [
    {
     "name": "stdout",
     "output_type": "stream",
     "text": [
      "ello, World!\n"
     ]
    }
   ],
   "source": [
    "# extract from index 1 till the end\n",
    "result = sample_string[1:]\n",
    "print(result)"
   ]
  },
  {
   "cell_type": "code",
   "execution_count": 8,
   "id": "a4211a9e",
   "metadata": {},
   "outputs": [
    {
     "name": "stdout",
     "output_type": "stream",
     "text": [
      "ello\n"
     ]
    }
   ],
   "source": [
    "# extract from index 1 till but not including index 5\n",
    "result = sample_string[1:5]\n",
    "print(result)"
   ]
  },
  {
   "cell_type": "code",
   "execution_count": 11,
   "id": "f6411925",
   "metadata": {},
   "outputs": [
    {
     "name": "stdout",
     "output_type": "stream",
     "text": [
      "Hlo ol!\n"
     ]
    }
   ],
   "source": [
    "# extract from begining and take 2 steps\n",
    "result = sample_string[::2]\n",
    "print(result)"
   ]
  },
  {
   "cell_type": "markdown",
   "id": "1e19c939",
   "metadata": {},
   "source": [
    "# Reverse string"
   ]
  },
  {
   "cell_type": "markdown",
   "id": "39ab93f8",
   "metadata": {},
   "source": [
    "```\n",
    "We can use the slicing to reverse the string.\n",
    "\n",
    "Syntax: [::-1]\n",
    "```"
   ]
  },
  {
   "cell_type": "code",
   "execution_count": 14,
   "id": "c9b45cb1",
   "metadata": {},
   "outputs": [
    {
     "name": "stdout",
     "output_type": "stream",
     "text": [
      "!dlroW ,olleH\n"
     ]
    }
   ],
   "source": [
    "# reverse the string\n",
    "result = sample_string[::-1]\n",
    "print(result)"
   ]
  },
  {
   "cell_type": "markdown",
   "id": "6ddae61f",
   "metadata": {},
   "source": [
    "# String are immutable"
   ]
  },
  {
   "cell_type": "markdown",
   "id": "c3000608",
   "metadata": {},
   "source": [
    "```\n",
    "We cannot update value at any index of a string. It will throw error.\n",
    "\n",
    "TypeError: 'str' object does not support item assignment\n",
    "```"
   ]
  },
  {
   "cell_type": "code",
   "execution_count": 17,
   "id": "9e0a02c1",
   "metadata": {},
   "outputs": [],
   "source": [
    "# following will throw error as we are trying to mutate string.\n",
    "x = 'tom'\n",
    "# x[1] = 'i'   # this will throw error, so this line is commented out."
   ]
  },
  {
   "cell_type": "code",
   "execution_count": 19,
   "id": "468cf5f0",
   "metadata": {},
   "outputs": [
    {
     "name": "stdout",
     "output_type": "stream",
     "text": [
      "tim\n"
     ]
    }
   ],
   "source": [
    "# so to convert the above string 'tom' to 'tim' we can write the following\n",
    "y = x[0] + 'i' + x[2]\n",
    "print(y)"
   ]
  },
  {
   "cell_type": "code",
   "execution_count": 20,
   "id": "551b467c",
   "metadata": {},
   "outputs": [
    {
     "name": "stdout",
     "output_type": "stream",
     "text": [
      "Hi, World!\n"
     ]
    }
   ],
   "source": [
    "# another example\n",
    "x = 'Hello, World!'\n",
    "\n",
    "# lets make this 'Hi, World!'\n",
    "trailing_characters = x[5:]\n",
    "y = 'Hi' + trailing_characters\n",
    "\n",
    "print(y)"
   ]
  },
  {
   "cell_type": "markdown",
   "id": "15ae7742",
   "metadata": {},
   "source": [
    "# String concatenation"
   ]
  },
  {
   "cell_type": "code",
   "execution_count": 21,
   "id": "d8458edc",
   "metadata": {},
   "outputs": [
    {
     "name": "stdout",
     "output_type": "stream",
     "text": [
      "Hello, World!\n"
     ]
    }
   ],
   "source": [
    "# joining two strings together using +\n",
    "x = 'Hello'\n",
    "y = 'World'\n",
    "result = x + ', ' + y + '!'\n",
    "print(result)"
   ]
  },
  {
   "cell_type": "code",
   "execution_count": 23,
   "id": "13b6dee8",
   "metadata": {},
   "outputs": [
    {
     "name": "stdout",
     "output_type": "stream",
     "text": [
      "HelloHelloHello\n"
     ]
    }
   ],
   "source": [
    "# same string concatenated multiple times\n",
    "x = 'Hello'\n",
    "result = x * 3\n",
    "print(result)"
   ]
  },
  {
   "cell_type": "markdown",
   "id": "c7dc8afb",
   "metadata": {},
   "source": [
    "# Some useful string functions"
   ]
  },
  {
   "cell_type": "code",
   "execution_count": 24,
   "id": "bf2e1693",
   "metadata": {},
   "outputs": [
    {
     "name": "stdout",
     "output_type": "stream",
     "text": [
      "HELLO\n"
     ]
    }
   ],
   "source": [
    "# to upper case\n",
    "x = 'hello'\n",
    "result = x.upper()\n",
    "print(result)"
   ]
  },
  {
   "cell_type": "code",
   "execution_count": 25,
   "id": "8eac390c",
   "metadata": {},
   "outputs": [
    {
     "name": "stdout",
     "output_type": "stream",
     "text": [
      "['Hello', 'World']\n"
     ]
    }
   ],
   "source": [
    "# split the string (default split by white space)\n",
    "x = 'Hello World'\n",
    "result = x.split()\n",
    "print(result)"
   ]
  },
  {
   "cell_type": "code",
   "execution_count": 26,
   "id": "740eceac",
   "metadata": {},
   "outputs": [
    {
     "name": "stdout",
     "output_type": "stream",
     "text": [
      "['1', '2', '3', '4', '5', '6', '7', '8']\n"
     ]
    }
   ],
   "source": [
    "# split the string using comma ,\n",
    "x = '1,2,3,4,5,6,7,8'\n",
    "result = x.split(',')\n",
    "print(result)"
   ]
  }
 ],
 "metadata": {
  "kernelspec": {
   "display_name": "Python 3 (ipykernel)",
   "language": "python",
   "name": "python3"
  },
  "language_info": {
   "codemirror_mode": {
    "name": "ipython",
    "version": 3
   },
   "file_extension": ".py",
   "mimetype": "text/x-python",
   "name": "python",
   "nbconvert_exporter": "python",
   "pygments_lexer": "ipython3",
   "version": "3.9.13"
  }
 },
 "nbformat": 4,
 "nbformat_minor": 5
}
