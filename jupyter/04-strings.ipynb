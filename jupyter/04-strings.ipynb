{
 "cells": [
  {
   "cell_type": "markdown",
   "id": "2ae8a32b",
   "metadata": {},
   "source": [
    "# Strings"
   ]
  },
  {
   "cell_type": "markdown",
   "id": "2b930e03",
   "metadata": {},
   "source": [
    "```\n",
    "Strings are ordered sequence of characters wrapped in single quotes or double quotes.\n",
    "```"
   ]
  },
  {
   "cell_type": "code",
   "execution_count": 1,
   "id": "99296e75",
   "metadata": {},
   "outputs": [
    {
     "name": "stdout",
     "output_type": "stream",
     "text": [
      "Hello, World!\n"
     ]
    }
   ],
   "source": [
    "# following is an example of a string\n",
    "sample_string = 'Hello, World!'\n",
    "print(sample_string)"
   ]
  },
  {
   "cell_type": "markdown",
   "id": "68d841d7",
   "metadata": {},
   "source": [
    "```\n",
    "We can access the elements of a string using it index.\n",
    "\n",
    "Note! The first element of the string has index 0. The second element is at index 1 and so on.\n",
    "```"
   ]
  },
  {
   "cell_type": "code",
   "execution_count": 2,
   "id": "6a31ba1d",
   "metadata": {},
   "outputs": [
    {
     "name": "stdout",
     "output_type": "stream",
     "text": [
      "H\n"
     ]
    }
   ],
   "source": [
    "# print the first element of the string sample_string\n",
    "print(sample_string[0])"
   ]
  },
  {
   "cell_type": "markdown",
   "id": "b65a6e04",
   "metadata": {},
   "source": [
    "```\n",
    "We can even use reverse index to access the element of a string in reverse order.\n",
    "\n",
    "So, the last element of the string will have reverse index of -1.\n",
    "The second last element of the string will have reverse index of -2 and so on.\n",
    "```"
   ]
  },
  {
   "cell_type": "code",
   "execution_count": 3,
   "id": "8e7792aa",
   "metadata": {},
   "outputs": [
    {
     "name": "stdout",
     "output_type": "stream",
     "text": [
      "!\n"
     ]
    }
   ],
   "source": [
    "# print the last element of the string sample_string\n",
    "print(sample_string[-1])"
   ]
  },
  {
   "cell_type": "markdown",
   "id": "f92ec110",
   "metadata": {},
   "source": [
    "# Length of a string"
   ]
  },
  {
   "cell_type": "markdown",
   "id": "8e1019ae",
   "metadata": {},
   "source": [
    "```\n",
    "To find number of characters in a string we using the len() function.\n",
    "```"
   ]
  },
  {
   "cell_type": "code",
   "execution_count": 4,
   "id": "7d42adcc",
   "metadata": {},
   "outputs": [
    {
     "name": "stdout",
     "output_type": "stream",
     "text": [
      "14\n"
     ]
    }
   ],
   "source": [
    "# print the number of characters in a string\n",
    "x = 'Hello, Python!'\n",
    "number_of_characters = len(x)\n",
    "print(number_of_characters)"
   ]
  },
  {
   "cell_type": "markdown",
   "id": "4a6d6d0d",
   "metadata": {},
   "source": [
    "# Slice"
   ]
  },
  {
   "cell_type": "markdown",
   "id": "72d1c9a5",
   "metadata": {},
   "source": [
    "```\n",
    "We use slicing to extract a section of the string.\n",
    "\n",
    "Syntax:\n",
    "\n",
    "str_var[start:stop:step]\n",
    "\n",
    "where,\n",
    "start is the start index. We start extraction from here.\n",
    "stop is the last index. The element at this index is not included.\n",
    "step is the number of element we hop or jump.\n",
    "```"
   ]
  },
  {
   "cell_type": "code",
   "execution_count": 5,
   "id": "b3874bc6",
   "metadata": {},
   "outputs": [
    {
     "name": "stdout",
     "output_type": "stream",
     "text": [
      "Hello, World!\n"
     ]
    }
   ],
   "source": [
    "# extract all the elements\n",
    "result = sample_string[:]\n",
    "print(result)"
   ]
  },
  {
   "cell_type": "code",
   "execution_count": 6,
   "id": "bfba01cb",
   "metadata": {},
   "outputs": [
    {
     "name": "stdout",
     "output_type": "stream",
     "text": [
      "Hello\n"
     ]
    }
   ],
   "source": [
    "# extract from start and up to but not including index 5\n",
    "result = sample_string[:5]\n",
    "print(result)"
   ]
  },
  {
   "cell_type": "code",
   "execution_count": 7,
   "id": "2aac0060",
   "metadata": {},
   "outputs": [
    {
     "name": "stdout",
     "output_type": "stream",
     "text": [
      "ello, World!\n"
     ]
    }
   ],
   "source": [
    "# extract from index 1 till the end\n",
    "result = sample_string[1:]\n",
    "print(result)"
   ]
  },
  {
   "cell_type": "code",
   "execution_count": 8,
   "id": "a4211a9e",
   "metadata": {},
   "outputs": [
    {
     "name": "stdout",
     "output_type": "stream",
     "text": [
      "ello\n"
     ]
    }
   ],
   "source": [
    "# extract from index 1 till but not including index 5\n",
    "result = sample_string[1:5]\n",
    "print(result)"
   ]
  },
  {
   "cell_type": "code",
   "execution_count": 9,
   "id": "f6411925",
   "metadata": {},
   "outputs": [
    {
     "name": "stdout",
     "output_type": "stream",
     "text": [
      "Hlo ol!\n"
     ]
    }
   ],
   "source": [
    "# extract from begining and take 2 steps\n",
    "result = sample_string[::2]\n",
    "print(result)"
   ]
  },
  {
   "cell_type": "markdown",
   "id": "1e19c939",
   "metadata": {},
   "source": [
    "# Reverse string"
   ]
  },
  {
   "cell_type": "markdown",
   "id": "39ab93f8",
   "metadata": {},
   "source": [
    "```\n",
    "We can use the slicing to reverse the string.\n",
    "\n",
    "Syntax: [::-1]\n",
    "```"
   ]
  },
  {
   "cell_type": "code",
   "execution_count": 10,
   "id": "c9b45cb1",
   "metadata": {},
   "outputs": [
    {
     "name": "stdout",
     "output_type": "stream",
     "text": [
      "!dlroW ,olleH\n"
     ]
    }
   ],
   "source": [
    "# reverse the string\n",
    "result = sample_string[::-1]\n",
    "print(result)"
   ]
  },
  {
   "cell_type": "markdown",
   "id": "6ddae61f",
   "metadata": {},
   "source": [
    "# String are immutable"
   ]
  },
  {
   "cell_type": "markdown",
   "id": "c3000608",
   "metadata": {},
   "source": [
    "```\n",
    "We cannot update value at any index of a string. It will throw error.\n",
    "\n",
    "TypeError: 'str' object does not support item assignment\n",
    "```"
   ]
  },
  {
   "cell_type": "code",
   "execution_count": 11,
   "id": "9e0a02c1",
   "metadata": {},
   "outputs": [],
   "source": [
    "# following will throw error as we are trying to mutate string.\n",
    "x = 'tom'\n",
    "# x[1] = 'i'   # this will throw error, so this line is commented out."
   ]
  },
  {
   "cell_type": "code",
   "execution_count": 12,
   "id": "468cf5f0",
   "metadata": {},
   "outputs": [
    {
     "name": "stdout",
     "output_type": "stream",
     "text": [
      "tim\n"
     ]
    }
   ],
   "source": [
    "# so to convert the above string 'tom' to 'tim' we can write the following\n",
    "y = x[0] + 'i' + x[2]\n",
    "print(y)"
   ]
  },
  {
   "cell_type": "code",
   "execution_count": 13,
   "id": "551b467c",
   "metadata": {},
   "outputs": [
    {
     "name": "stdout",
     "output_type": "stream",
     "text": [
      "Hi, World!\n"
     ]
    }
   ],
   "source": [
    "# another example\n",
    "x = 'Hello, World!'\n",
    "\n",
    "# lets make this 'Hi, World!'\n",
    "trailing_characters = x[5:]\n",
    "y = 'Hi' + trailing_characters\n",
    "\n",
    "print(y)"
   ]
  },
  {
   "cell_type": "markdown",
   "id": "15ae7742",
   "metadata": {},
   "source": [
    "# String concatenation"
   ]
  },
  {
   "cell_type": "code",
   "execution_count": 14,
   "id": "d8458edc",
   "metadata": {},
   "outputs": [
    {
     "name": "stdout",
     "output_type": "stream",
     "text": [
      "Hello, World!\n"
     ]
    }
   ],
   "source": [
    "# joining two strings together using +\n",
    "x = 'Hello'\n",
    "y = 'World'\n",
    "result = x + ', ' + y + '!'\n",
    "print(result)"
   ]
  },
  {
   "cell_type": "code",
   "execution_count": 15,
   "id": "13b6dee8",
   "metadata": {},
   "outputs": [
    {
     "name": "stdout",
     "output_type": "stream",
     "text": [
      "HelloHelloHello\n"
     ]
    }
   ],
   "source": [
    "# same string concatenated multiple times\n",
    "x = 'Hello'\n",
    "result = x * 3\n",
    "print(result)"
   ]
  },
  {
   "cell_type": "markdown",
   "id": "c7dc8afb",
   "metadata": {},
   "source": [
    "# Some useful string functions"
   ]
  },
  {
   "cell_type": "code",
   "execution_count": 16,
   "id": "bf2e1693",
   "metadata": {},
   "outputs": [
    {
     "name": "stdout",
     "output_type": "stream",
     "text": [
      "HELLO\n"
     ]
    }
   ],
   "source": [
    "# to upper case\n",
    "x = 'hello'\n",
    "result = x.upper()\n",
    "print(result)"
   ]
  },
  {
   "cell_type": "code",
   "execution_count": 17,
   "id": "8eac390c",
   "metadata": {},
   "outputs": [
    {
     "name": "stdout",
     "output_type": "stream",
     "text": [
      "['Hello', 'World']\n"
     ]
    }
   ],
   "source": [
    "# split the string (default split by white space)\n",
    "x = 'Hello World'\n",
    "result = x.split()\n",
    "print(result)"
   ]
  },
  {
   "cell_type": "code",
   "execution_count": 18,
   "id": "740eceac",
   "metadata": {},
   "outputs": [
    {
     "name": "stdout",
     "output_type": "stream",
     "text": [
      "['1', '2', '3', '4', '5', '6', '7', '8']\n"
     ]
    }
   ],
   "source": [
    "# split the string using comma ,\n",
    "x = '1,2,3,4,5,6,7,8'\n",
    "result = x.split(',')\n",
    "print(result)"
   ]
  },
  {
   "cell_type": "markdown",
   "id": "9838f4d2",
   "metadata": {},
   "source": [
    "# String formatting using .format method"
   ]
  },
  {
   "cell_type": "markdown",
   "id": "98de3ec4",
   "metadata": {},
   "source": [
    "```\n",
    "We use the .format() method to insert object into a string at a given placeholder.\n",
    "\n",
    "Syntax\n",
    "\n",
    "result = 'This is a {} string'.format('sample')\n",
    "print(result)\n",
    "\n",
    "This will print the following\n",
    "\n",
    "This is a sample string\n",
    "```"
   ]
  },
  {
   "cell_type": "code",
   "execution_count": 19,
   "id": "ced95388",
   "metadata": {},
   "outputs": [
    {
     "name": "stdout",
     "output_type": "stream",
     "text": [
      "This is a sample string\n"
     ]
    }
   ],
   "source": [
    "# string formatting\n",
    "result = 'This is a {} string'.format('sample')\n",
    "print(result)"
   ]
  },
  {
   "cell_type": "markdown",
   "id": "09fd377a",
   "metadata": {},
   "source": [
    "```\n",
    "We can even mention the index of the values passed in the .format() method in the placeholder {}.\n",
    "This way they values passed are printed as per their index.\n",
    "```"
   ]
  },
  {
   "cell_type": "code",
   "execution_count": 20,
   "id": "32ecb840",
   "metadata": {},
   "outputs": [
    {
     "name": "stdout",
     "output_type": "stream",
     "text": [
      "My Yusuf is name.\n"
     ]
    }
   ],
   "source": [
    "# in the following example the values passed to the .format() method are printed in the order they appear.\n",
    "print('My {} {} {}.'.format('Yusuf', 'is', 'name'))"
   ]
  },
  {
   "cell_type": "code",
   "execution_count": 21,
   "id": "db50f5f8",
   "metadata": {},
   "outputs": [
    {
     "name": "stdout",
     "output_type": "stream",
     "text": [
      "My name is Yusuf.\n"
     ]
    }
   ],
   "source": [
    "# to print the above provided string in a meaningful order we will set their index in the placeholder.\n",
    "print('My {2} {1} {0}.'.format('Yusuf', 'is', 'name'))"
   ]
  },
  {
   "cell_type": "markdown",
   "id": "95c75a61",
   "metadata": {},
   "source": [
    "```\n",
    "We can also simplify the above indexing by assigning keywords to the values and then using that in the placeholder.\n",
    "```"
   ]
  },
  {
   "cell_type": "code",
   "execution_count": 22,
   "id": "3f3e9ce7",
   "metadata": {},
   "outputs": [
    {
     "name": "stdout",
     "output_type": "stream",
     "text": [
      "My name is Yusuf.\n"
     ]
    }
   ],
   "source": [
    "# in the following example we are setting keywords\n",
    "print('My {n} {i} {y}.'.format(y='Yusuf', i='is', n='name'))"
   ]
  },
  {
   "cell_type": "markdown",
   "id": "a36eeb29",
   "metadata": {},
   "source": [
    "# Managing floating point formatting using .format method"
   ]
  },
  {
   "cell_type": "markdown",
   "id": "c6cb93bd",
   "metadata": {},
   "source": [
    "```\n",
    "We can manage the width and precision of a floating point number using the .format() method using the following format.\n",
    "\n",
    "{VALUE:WIDTH.PRECISIONf}\n",
    "\n",
    "Where\n",
    "VALUE is the floating point value.\n",
    "WIDTH is helps in adding whitespace for padding.\n",
    "PRECISION is the total number of decimal places needed.\n",
    "f repesents the floating point number\n",
    "```"
   ]
  },
  {
   "cell_type": "code",
   "execution_count": 23,
   "id": "607d76c4",
   "metadata": {},
   "outputs": [
    {
     "name": "stdout",
     "output_type": "stream",
     "text": [
      "318.4713375796178\n"
     ]
    }
   ],
   "source": [
    "# let's first see an example without float formatting\n",
    "result = 1000/3.14\n",
    "print(result)"
   ]
  },
  {
   "cell_type": "code",
   "execution_count": 24,
   "id": "17c490ce",
   "metadata": {},
   "outputs": [
    {
     "name": "stdout",
     "output_type": "stream",
     "text": [
      "Result=318.4713375796178\n"
     ]
    }
   ],
   "source": [
    "# let's format this\n",
    "result = 1000/3.14\n",
    "print('Result={r}'.format(r=result))"
   ]
  },
  {
   "cell_type": "code",
   "execution_count": 25,
   "id": "c2a49651",
   "metadata": {},
   "outputs": [
    {
     "name": "stdout",
     "output_type": "stream",
     "text": [
      "Result=318.471\n"
     ]
    }
   ],
   "source": [
    "# let's format this to have 3 decimal places\n",
    "result = 1000/3.14\n",
    "print('Result={r:1.3f}'.format(r=result))"
   ]
  },
  {
   "cell_type": "code",
   "execution_count": 26,
   "id": "b76cc4f0",
   "metadata": {},
   "outputs": [
    {
     "name": "stdout",
     "output_type": "stream",
     "text": [
      "Result=   318.471\n"
     ]
    }
   ],
   "source": [
    "# let's format this to have white space padding\n",
    "result = 1000/3.14\n",
    "print('Result={r:10.3f}'.format(r=result))"
   ]
  },
  {
   "cell_type": "markdown",
   "id": "19f4d6ef",
   "metadata": {},
   "source": [
    "# Formatted string literal (f-format)"
   ]
  },
  {
   "cell_type": "code",
   "execution_count": 27,
   "id": "139f49f7",
   "metadata": {},
   "outputs": [
    {
     "name": "stdout",
     "output_type": "stream",
     "text": [
      "My name is Yusuf.\n"
     ]
    }
   ],
   "source": [
    "# in the following example we are going to use the value of the variable in the string using f-format\n",
    "name = 'Yusuf'\n",
    "print(f'My name is {name}.')"
   ]
  },
  {
   "cell_type": "code",
   "execution_count": null,
   "id": "f76550cd",
   "metadata": {},
   "outputs": [],
   "source": []
  }
 ],
 "metadata": {
  "kernelspec": {
   "display_name": "Python 3 (ipykernel)",
   "language": "python",
   "name": "python3"
  },
  "language_info": {
   "codemirror_mode": {
    "name": "ipython",
    "version": 3
   },
   "file_extension": ".py",
   "mimetype": "text/x-python",
   "name": "python",
   "nbconvert_exporter": "python",
   "pygments_lexer": "ipython3",
   "version": "3.9.13"
  }
 },
 "nbformat": 4,
 "nbformat_minor": 5
}
