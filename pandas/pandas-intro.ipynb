{
 "cells": [
  {
   "cell_type": "markdown",
   "id": "5369375a",
   "metadata": {},
   "source": [
    "# Series"
   ]
  },
  {
   "cell_type": "code",
   "execution_count": 1,
   "id": "9d9dc16c",
   "metadata": {},
   "outputs": [],
   "source": [
    "import numpy as np\n",
    "import pandas as pd"
   ]
  },
  {
   "cell_type": "markdown",
   "id": "c390cd3e",
   "metadata": {},
   "source": [
    "## create series from array"
   ]
  },
  {
   "cell_type": "code",
   "execution_count": 2,
   "id": "c70ad805",
   "metadata": {},
   "outputs": [],
   "source": [
    "random_int_arr = np.random.randint(1,100,10)"
   ]
  },
  {
   "cell_type": "code",
   "execution_count": 3,
   "id": "ccc9378a",
   "metadata": {},
   "outputs": [
    {
     "data": {
      "text/plain": [
       "0    66\n",
       "1    22\n",
       "2    35\n",
       "3    17\n",
       "4    75\n",
       "5    26\n",
       "6    44\n",
       "7     4\n",
       "8    95\n",
       "9     3\n",
       "dtype: int64"
      ]
     },
     "execution_count": 3,
     "metadata": {},
     "output_type": "execute_result"
    }
   ],
   "source": [
    "pd.Series(random_int_arr)"
   ]
  },
  {
   "cell_type": "markdown",
   "id": "27ae95a5",
   "metadata": {},
   "source": [
    "## create series from dictionary"
   ]
  },
  {
   "cell_type": "code",
   "execution_count": 5,
   "id": "29ab7406",
   "metadata": {},
   "outputs": [],
   "source": [
    "score = {\"batman\": 100, \"superman\": 200, \"ironman\": 400, \"spiderman\": 500}"
   ]
  },
  {
   "cell_type": "code",
   "execution_count": 6,
   "id": "f582482b",
   "metadata": {},
   "outputs": [
    {
     "data": {
      "text/plain": [
       "batman       100\n",
       "superman     200\n",
       "ironman      400\n",
       "spiderman    500\n",
       "dtype: int64"
      ]
     },
     "execution_count": 6,
     "metadata": {},
     "output_type": "execute_result"
    }
   ],
   "source": [
    "pd.Series(score)"
   ]
  },
  {
   "cell_type": "markdown",
   "id": "6260de17",
   "metadata": {},
   "source": [
    "## create series from array of values and index"
   ]
  },
  {
   "cell_type": "code",
   "execution_count": 11,
   "id": "bba535cc",
   "metadata": {},
   "outputs": [],
   "source": [
    "values = [10, 20, 30, 40]\n",
    "index = ['a', 'b', 'c', 'd']"
   ]
  },
  {
   "cell_type": "code",
   "execution_count": 12,
   "id": "d188ed38",
   "metadata": {},
   "outputs": [
    {
     "data": {
      "text/plain": [
       "a    10\n",
       "b    20\n",
       "c    30\n",
       "d    40\n",
       "dtype: int64"
      ]
     },
     "execution_count": 12,
     "metadata": {},
     "output_type": "execute_result"
    }
   ],
   "source": [
    "pd.Series(values, index)"
   ]
  },
  {
   "cell_type": "markdown",
   "id": "0cce1c7a",
   "metadata": {},
   "source": [
    "## add two series"
   ]
  },
  {
   "cell_type": "code",
   "execution_count": 13,
   "id": "83ee196b",
   "metadata": {},
   "outputs": [
    {
     "data": {
      "text/plain": [
       "a    5.0\n",
       "b    7.0\n",
       "c    9.0\n",
       "d    NaN\n",
       "e    NaN\n",
       "dtype: float64"
      ]
     },
     "execution_count": 13,
     "metadata": {},
     "output_type": "execute_result"
    }
   ],
   "source": [
    "# this will add the values if the index is present in both the series, NaN otherwise.\n",
    "s1 = pd.Series({\"a\": 1, \"b\": 2, \"c\": 3, \"e\": 8})\n",
    "s2 = pd.Series({\"a\": 4, \"b\": 5, \"c\": 6, \"d\": 7})\n",
    "s1 + s2"
   ]
  },
  {
   "cell_type": "code",
   "execution_count": null,
   "id": "17461148",
   "metadata": {},
   "outputs": [],
   "source": []
  }
 ],
 "metadata": {
  "kernelspec": {
   "display_name": "Python 3 (ipykernel)",
   "language": "python",
   "name": "python3"
  },
  "language_info": {
   "codemirror_mode": {
    "name": "ipython",
    "version": 3
   },
   "file_extension": ".py",
   "mimetype": "text/x-python",
   "name": "python",
   "nbconvert_exporter": "python",
   "pygments_lexer": "ipython3",
   "version": "3.9.12"
  }
 },
 "nbformat": 4,
 "nbformat_minor": 5
}
