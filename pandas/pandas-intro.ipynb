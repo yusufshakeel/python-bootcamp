{
 "cells": [
  {
   "cell_type": "markdown",
   "id": "5369375a",
   "metadata": {},
   "source": [
    "# Series"
   ]
  },
  {
   "cell_type": "code",
   "execution_count": 1,
   "id": "9d9dc16c",
   "metadata": {},
   "outputs": [],
   "source": [
    "import numpy as np\n",
    "import pandas as pd"
   ]
  },
  {
   "cell_type": "markdown",
   "id": "c390cd3e",
   "metadata": {},
   "source": [
    "## create series from array"
   ]
  },
  {
   "cell_type": "code",
   "execution_count": 2,
   "id": "c70ad805",
   "metadata": {},
   "outputs": [],
   "source": [
    "random_int_arr = np.random.randint(1,100,10)"
   ]
  },
  {
   "cell_type": "code",
   "execution_count": 3,
   "id": "ccc9378a",
   "metadata": {},
   "outputs": [
    {
     "data": {
      "text/plain": [
       "0    66\n",
       "1    22\n",
       "2    35\n",
       "3    17\n",
       "4    75\n",
       "5    26\n",
       "6    44\n",
       "7     4\n",
       "8    95\n",
       "9     3\n",
       "dtype: int64"
      ]
     },
     "execution_count": 3,
     "metadata": {},
     "output_type": "execute_result"
    }
   ],
   "source": [
    "pd.Series(random_int_arr)"
   ]
  },
  {
   "cell_type": "markdown",
   "id": "27ae95a5",
   "metadata": {},
   "source": [
    "## create series from dictionary"
   ]
  },
  {
   "cell_type": "code",
   "execution_count": 5,
   "id": "29ab7406",
   "metadata": {},
   "outputs": [],
   "source": [
    "score = {\"batman\": 100, \"superman\": 200, \"ironman\": 400, \"spiderman\": 500}"
   ]
  },
  {
   "cell_type": "code",
   "execution_count": 6,
   "id": "f582482b",
   "metadata": {},
   "outputs": [
    {
     "data": {
      "text/plain": [
       "batman       100\n",
       "superman     200\n",
       "ironman      400\n",
       "spiderman    500\n",
       "dtype: int64"
      ]
     },
     "execution_count": 6,
     "metadata": {},
     "output_type": "execute_result"
    }
   ],
   "source": [
    "pd.Series(score)"
   ]
  },
  {
   "cell_type": "markdown",
   "id": "6260de17",
   "metadata": {},
   "source": [
    "## create series from array of values and index"
   ]
  },
  {
   "cell_type": "code",
   "execution_count": 11,
   "id": "bba535cc",
   "metadata": {},
   "outputs": [],
   "source": [
    "values = [10, 20, 30, 40]\n",
    "index = ['a', 'b', 'c', 'd']"
   ]
  },
  {
   "cell_type": "code",
   "execution_count": 12,
   "id": "d188ed38",
   "metadata": {},
   "outputs": [
    {
     "data": {
      "text/plain": [
       "a    10\n",
       "b    20\n",
       "c    30\n",
       "d    40\n",
       "dtype: int64"
      ]
     },
     "execution_count": 12,
     "metadata": {},
     "output_type": "execute_result"
    }
   ],
   "source": [
    "pd.Series(values, index)"
   ]
  },
  {
   "cell_type": "markdown",
   "id": "0cce1c7a",
   "metadata": {},
   "source": [
    "## add two series"
   ]
  },
  {
   "cell_type": "code",
   "execution_count": 13,
   "id": "83ee196b",
   "metadata": {},
   "outputs": [
    {
     "data": {
      "text/plain": [
       "a    5.0\n",
       "b    7.0\n",
       "c    9.0\n",
       "d    NaN\n",
       "e    NaN\n",
       "dtype: float64"
      ]
     },
     "execution_count": 13,
     "metadata": {},
     "output_type": "execute_result"
    }
   ],
   "source": [
    "# this will add the values if the index is present in both the series, NaN otherwise.\n",
    "s1 = pd.Series({\"a\": 1, \"b\": 2, \"c\": 3, \"e\": 8})\n",
    "s2 = pd.Series({\"a\": 4, \"b\": 5, \"c\": 6, \"d\": 7})\n",
    "s1 + s2"
   ]
  },
  {
   "cell_type": "markdown",
   "id": "2aa20c84",
   "metadata": {},
   "source": [
    "# DataFrames"
   ]
  },
  {
   "cell_type": "code",
   "execution_count": 19,
   "id": "c063786c",
   "metadata": {},
   "outputs": [
    {
     "data": {
      "text/plain": [
       "array([[15, 23, 57, 83, 63],\n",
       "       [74, 87, 22, 81, 50],\n",
       "       [86, 54, 51, 10, 69],\n",
       "       [14, 34, 60, 11, 67],\n",
       "       [85, 84, 74, 21, 20]])"
      ]
     },
     "execution_count": 19,
     "metadata": {},
     "output_type": "execute_result"
    }
   ],
   "source": [
    "# create a 2d array having 5 rows and 5 columns\n",
    "data = np.random.randint(1, 100, 25).reshape(5, 5)\n",
    "data"
   ]
  },
  {
   "cell_type": "code",
   "execution_count": 21,
   "id": "ab8d19a1",
   "metadata": {},
   "outputs": [],
   "source": [
    "index = ['player1', 'player2', 'player3', 'player4', 'player5'] # row labels\n",
    "columns = ['I', 'II', 'III', 'IV', 'V'] # column labels"
   ]
  },
  {
   "cell_type": "code",
   "execution_count": 25,
   "id": "794f30cb",
   "metadata": {},
   "outputs": [
    {
     "data": {
      "text/html": [
       "<div>\n",
       "<style scoped>\n",
       "    .dataframe tbody tr th:only-of-type {\n",
       "        vertical-align: middle;\n",
       "    }\n",
       "\n",
       "    .dataframe tbody tr th {\n",
       "        vertical-align: top;\n",
       "    }\n",
       "\n",
       "    .dataframe thead th {\n",
       "        text-align: right;\n",
       "    }\n",
       "</style>\n",
       "<table border=\"1\" class=\"dataframe\">\n",
       "  <thead>\n",
       "    <tr style=\"text-align: right;\">\n",
       "      <th></th>\n",
       "      <th>I</th>\n",
       "      <th>II</th>\n",
       "      <th>III</th>\n",
       "      <th>IV</th>\n",
       "      <th>V</th>\n",
       "    </tr>\n",
       "  </thead>\n",
       "  <tbody>\n",
       "    <tr>\n",
       "      <th>player1</th>\n",
       "      <td>15</td>\n",
       "      <td>23</td>\n",
       "      <td>57</td>\n",
       "      <td>83</td>\n",
       "      <td>63</td>\n",
       "    </tr>\n",
       "    <tr>\n",
       "      <th>player2</th>\n",
       "      <td>74</td>\n",
       "      <td>87</td>\n",
       "      <td>22</td>\n",
       "      <td>81</td>\n",
       "      <td>50</td>\n",
       "    </tr>\n",
       "    <tr>\n",
       "      <th>player3</th>\n",
       "      <td>86</td>\n",
       "      <td>54</td>\n",
       "      <td>51</td>\n",
       "      <td>10</td>\n",
       "      <td>69</td>\n",
       "    </tr>\n",
       "    <tr>\n",
       "      <th>player4</th>\n",
       "      <td>14</td>\n",
       "      <td>34</td>\n",
       "      <td>60</td>\n",
       "      <td>11</td>\n",
       "      <td>67</td>\n",
       "    </tr>\n",
       "    <tr>\n",
       "      <th>player5</th>\n",
       "      <td>85</td>\n",
       "      <td>84</td>\n",
       "      <td>74</td>\n",
       "      <td>21</td>\n",
       "      <td>20</td>\n",
       "    </tr>\n",
       "  </tbody>\n",
       "</table>\n",
       "</div>"
      ],
      "text/plain": [
       "          I  II  III  IV   V\n",
       "player1  15  23   57  83  63\n",
       "player2  74  87   22  81  50\n",
       "player3  86  54   51  10  69\n",
       "player4  14  34   60  11  67\n",
       "player5  85  84   74  21  20"
      ]
     },
     "execution_count": 25,
     "metadata": {},
     "output_type": "execute_result"
    }
   ],
   "source": [
    "df = pd.DataFrame(data, index, columns)\n",
    "df"
   ]
  },
  {
   "cell_type": "code",
   "execution_count": 26,
   "id": "606ac911",
   "metadata": {},
   "outputs": [
    {
     "data": {
      "text/plain": [
       "player1    15\n",
       "player2    74\n",
       "player3    86\n",
       "player4    14\n",
       "player5    85\n",
       "Name: I, dtype: int64"
      ]
     },
     "execution_count": 26,
     "metadata": {},
     "output_type": "execute_result"
    }
   ],
   "source": [
    "# get column\n",
    "df['I']"
   ]
  },
  {
   "cell_type": "code",
   "execution_count": 40,
   "id": "f6240034",
   "metadata": {},
   "outputs": [
    {
     "data": {
      "text/html": [
       "<div>\n",
       "<style scoped>\n",
       "    .dataframe tbody tr th:only-of-type {\n",
       "        vertical-align: middle;\n",
       "    }\n",
       "\n",
       "    .dataframe tbody tr th {\n",
       "        vertical-align: top;\n",
       "    }\n",
       "\n",
       "    .dataframe thead th {\n",
       "        text-align: right;\n",
       "    }\n",
       "</style>\n",
       "<table border=\"1\" class=\"dataframe\">\n",
       "  <thead>\n",
       "    <tr style=\"text-align: right;\">\n",
       "      <th></th>\n",
       "      <th>I</th>\n",
       "      <th>II</th>\n",
       "    </tr>\n",
       "  </thead>\n",
       "  <tbody>\n",
       "    <tr>\n",
       "      <th>player1</th>\n",
       "      <td>15</td>\n",
       "      <td>23</td>\n",
       "    </tr>\n",
       "    <tr>\n",
       "      <th>player2</th>\n",
       "      <td>74</td>\n",
       "      <td>87</td>\n",
       "    </tr>\n",
       "    <tr>\n",
       "      <th>player3</th>\n",
       "      <td>86</td>\n",
       "      <td>54</td>\n",
       "    </tr>\n",
       "    <tr>\n",
       "      <th>player4</th>\n",
       "      <td>14</td>\n",
       "      <td>34</td>\n",
       "    </tr>\n",
       "    <tr>\n",
       "      <th>player5</th>\n",
       "      <td>85</td>\n",
       "      <td>84</td>\n",
       "    </tr>\n",
       "  </tbody>\n",
       "</table>\n",
       "</div>"
      ],
      "text/plain": [
       "          I  II\n",
       "player1  15  23\n",
       "player2  74  87\n",
       "player3  86  54\n",
       "player4  14  34\n",
       "player5  85  84"
      ]
     },
     "execution_count": 40,
     "metadata": {},
     "output_type": "execute_result"
    }
   ],
   "source": [
    "# get multiple columns\n",
    "df[['I','II']]"
   ]
  },
  {
   "cell_type": "code",
   "execution_count": 41,
   "id": "8ec9921a",
   "metadata": {},
   "outputs": [
    {
     "data": {
      "text/plain": [
       "I      15\n",
       "II     23\n",
       "III    57\n",
       "IV     83\n",
       "V      63\n",
       "Name: player1, dtype: int64"
      ]
     },
     "execution_count": 41,
     "metadata": {},
     "output_type": "execute_result"
    }
   ],
   "source": [
    "# get row\n",
    "df.loc['player1']"
   ]
  },
  {
   "cell_type": "code",
   "execution_count": 43,
   "id": "71cc1ea8",
   "metadata": {},
   "outputs": [
    {
     "data": {
      "text/plain": [
       "I      15\n",
       "II     23\n",
       "III    57\n",
       "IV     83\n",
       "V      63\n",
       "Name: player1, dtype: int64"
      ]
     },
     "execution_count": 43,
     "metadata": {},
     "output_type": "execute_result"
    }
   ],
   "source": [
    "# get row by index\n",
    "df.iloc[0]"
   ]
  },
  {
   "cell_type": "code",
   "execution_count": 44,
   "id": "d581d872",
   "metadata": {},
   "outputs": [
    {
     "data": {
      "text/html": [
       "<div>\n",
       "<style scoped>\n",
       "    .dataframe tbody tr th:only-of-type {\n",
       "        vertical-align: middle;\n",
       "    }\n",
       "\n",
       "    .dataframe tbody tr th {\n",
       "        vertical-align: top;\n",
       "    }\n",
       "\n",
       "    .dataframe thead th {\n",
       "        text-align: right;\n",
       "    }\n",
       "</style>\n",
       "<table border=\"1\" class=\"dataframe\">\n",
       "  <thead>\n",
       "    <tr style=\"text-align: right;\">\n",
       "      <th></th>\n",
       "      <th>I</th>\n",
       "      <th>II</th>\n",
       "      <th>III</th>\n",
       "      <th>IV</th>\n",
       "      <th>V</th>\n",
       "    </tr>\n",
       "  </thead>\n",
       "  <tbody>\n",
       "    <tr>\n",
       "      <th>player1</th>\n",
       "      <td>15</td>\n",
       "      <td>23</td>\n",
       "      <td>57</td>\n",
       "      <td>83</td>\n",
       "      <td>63</td>\n",
       "    </tr>\n",
       "    <tr>\n",
       "      <th>player2</th>\n",
       "      <td>74</td>\n",
       "      <td>87</td>\n",
       "      <td>22</td>\n",
       "      <td>81</td>\n",
       "      <td>50</td>\n",
       "    </tr>\n",
       "  </tbody>\n",
       "</table>\n",
       "</div>"
      ],
      "text/plain": [
       "          I  II  III  IV   V\n",
       "player1  15  23   57  83  63\n",
       "player2  74  87   22  81  50"
      ]
     },
     "execution_count": 44,
     "metadata": {},
     "output_type": "execute_result"
    }
   ],
   "source": [
    "# get multiple rows\n",
    "df.loc[['player1','player2']]"
   ]
  },
  {
   "cell_type": "code",
   "execution_count": 45,
   "id": "d08cfb09",
   "metadata": {},
   "outputs": [
    {
     "data": {
      "text/html": [
       "<div>\n",
       "<style scoped>\n",
       "    .dataframe tbody tr th:only-of-type {\n",
       "        vertical-align: middle;\n",
       "    }\n",
       "\n",
       "    .dataframe tbody tr th {\n",
       "        vertical-align: top;\n",
       "    }\n",
       "\n",
       "    .dataframe thead th {\n",
       "        text-align: right;\n",
       "    }\n",
       "</style>\n",
       "<table border=\"1\" class=\"dataframe\">\n",
       "  <thead>\n",
       "    <tr style=\"text-align: right;\">\n",
       "      <th></th>\n",
       "      <th>I</th>\n",
       "      <th>II</th>\n",
       "    </tr>\n",
       "  </thead>\n",
       "  <tbody>\n",
       "    <tr>\n",
       "      <th>player1</th>\n",
       "      <td>15</td>\n",
       "      <td>23</td>\n",
       "    </tr>\n",
       "    <tr>\n",
       "      <th>player2</th>\n",
       "      <td>74</td>\n",
       "      <td>87</td>\n",
       "    </tr>\n",
       "  </tbody>\n",
       "</table>\n",
       "</div>"
      ],
      "text/plain": [
       "          I  II\n",
       "player1  15  23\n",
       "player2  74  87"
      ]
     },
     "execution_count": 45,
     "metadata": {},
     "output_type": "execute_result"
    }
   ],
   "source": [
    "# get subset of rows and columns\n",
    "df.loc[['player1','player2'],['I','II']]"
   ]
  },
  {
   "cell_type": "markdown",
   "id": "dd7fcc97",
   "metadata": {},
   "source": [
    "## add/delete columns"
   ]
  },
  {
   "cell_type": "code",
   "execution_count": 37,
   "id": "5070a487",
   "metadata": {},
   "outputs": [
    {
     "data": {
      "text/html": [
       "<div>\n",
       "<style scoped>\n",
       "    .dataframe tbody tr th:only-of-type {\n",
       "        vertical-align: middle;\n",
       "    }\n",
       "\n",
       "    .dataframe tbody tr th {\n",
       "        vertical-align: top;\n",
       "    }\n",
       "\n",
       "    .dataframe thead th {\n",
       "        text-align: right;\n",
       "    }\n",
       "</style>\n",
       "<table border=\"1\" class=\"dataframe\">\n",
       "  <thead>\n",
       "    <tr style=\"text-align: right;\">\n",
       "      <th></th>\n",
       "      <th>I</th>\n",
       "      <th>II</th>\n",
       "      <th>III</th>\n",
       "      <th>IV</th>\n",
       "      <th>V</th>\n",
       "      <th>VI</th>\n",
       "    </tr>\n",
       "  </thead>\n",
       "  <tbody>\n",
       "    <tr>\n",
       "      <th>player1</th>\n",
       "      <td>15</td>\n",
       "      <td>23</td>\n",
       "      <td>57</td>\n",
       "      <td>83</td>\n",
       "      <td>63</td>\n",
       "      <td>38</td>\n",
       "    </tr>\n",
       "    <tr>\n",
       "      <th>player2</th>\n",
       "      <td>74</td>\n",
       "      <td>87</td>\n",
       "      <td>22</td>\n",
       "      <td>81</td>\n",
       "      <td>50</td>\n",
       "      <td>161</td>\n",
       "    </tr>\n",
       "    <tr>\n",
       "      <th>player3</th>\n",
       "      <td>86</td>\n",
       "      <td>54</td>\n",
       "      <td>51</td>\n",
       "      <td>10</td>\n",
       "      <td>69</td>\n",
       "      <td>140</td>\n",
       "    </tr>\n",
       "    <tr>\n",
       "      <th>player4</th>\n",
       "      <td>14</td>\n",
       "      <td>34</td>\n",
       "      <td>60</td>\n",
       "      <td>11</td>\n",
       "      <td>67</td>\n",
       "      <td>48</td>\n",
       "    </tr>\n",
       "    <tr>\n",
       "      <th>player5</th>\n",
       "      <td>85</td>\n",
       "      <td>84</td>\n",
       "      <td>74</td>\n",
       "      <td>21</td>\n",
       "      <td>20</td>\n",
       "      <td>169</td>\n",
       "    </tr>\n",
       "  </tbody>\n",
       "</table>\n",
       "</div>"
      ],
      "text/plain": [
       "          I  II  III  IV   V   VI\n",
       "player1  15  23   57  83  63   38\n",
       "player2  74  87   22  81  50  161\n",
       "player3  86  54   51  10  69  140\n",
       "player4  14  34   60  11  67   48\n",
       "player5  85  84   74  21  20  169"
      ]
     },
     "execution_count": 37,
     "metadata": {},
     "output_type": "execute_result"
    }
   ],
   "source": [
    "df['VI'] = df['I'] + df['II']\n",
    "df"
   ]
  },
  {
   "cell_type": "code",
   "execution_count": 38,
   "id": "9626f438",
   "metadata": {},
   "outputs": [
    {
     "data": {
      "text/html": [
       "<div>\n",
       "<style scoped>\n",
       "    .dataframe tbody tr th:only-of-type {\n",
       "        vertical-align: middle;\n",
       "    }\n",
       "\n",
       "    .dataframe tbody tr th {\n",
       "        vertical-align: top;\n",
       "    }\n",
       "\n",
       "    .dataframe thead th {\n",
       "        text-align: right;\n",
       "    }\n",
       "</style>\n",
       "<table border=\"1\" class=\"dataframe\">\n",
       "  <thead>\n",
       "    <tr style=\"text-align: right;\">\n",
       "      <th></th>\n",
       "      <th>I</th>\n",
       "      <th>II</th>\n",
       "      <th>III</th>\n",
       "      <th>IV</th>\n",
       "      <th>V</th>\n",
       "    </tr>\n",
       "  </thead>\n",
       "  <tbody>\n",
       "    <tr>\n",
       "      <th>player1</th>\n",
       "      <td>15</td>\n",
       "      <td>23</td>\n",
       "      <td>57</td>\n",
       "      <td>83</td>\n",
       "      <td>63</td>\n",
       "    </tr>\n",
       "    <tr>\n",
       "      <th>player2</th>\n",
       "      <td>74</td>\n",
       "      <td>87</td>\n",
       "      <td>22</td>\n",
       "      <td>81</td>\n",
       "      <td>50</td>\n",
       "    </tr>\n",
       "    <tr>\n",
       "      <th>player3</th>\n",
       "      <td>86</td>\n",
       "      <td>54</td>\n",
       "      <td>51</td>\n",
       "      <td>10</td>\n",
       "      <td>69</td>\n",
       "    </tr>\n",
       "    <tr>\n",
       "      <th>player4</th>\n",
       "      <td>14</td>\n",
       "      <td>34</td>\n",
       "      <td>60</td>\n",
       "      <td>11</td>\n",
       "      <td>67</td>\n",
       "    </tr>\n",
       "    <tr>\n",
       "      <th>player5</th>\n",
       "      <td>85</td>\n",
       "      <td>84</td>\n",
       "      <td>74</td>\n",
       "      <td>21</td>\n",
       "      <td>20</td>\n",
       "    </tr>\n",
       "  </tbody>\n",
       "</table>\n",
       "</div>"
      ],
      "text/plain": [
       "          I  II  III  IV   V\n",
       "player1  15  23   57  83  63\n",
       "player2  74  87   22  81  50\n",
       "player3  86  54   51  10  69\n",
       "player4  14  34   60  11  67\n",
       "player5  85  84   74  21  20"
      ]
     },
     "execution_count": 38,
     "metadata": {},
     "output_type": "execute_result"
    }
   ],
   "source": [
    "# to remove a column set axis=1. default value of axis=0 which is for row.\n",
    "df.drop('VI', axis=1)"
   ]
  },
  {
   "cell_type": "code",
   "execution_count": 39,
   "id": "a0c70c3c",
   "metadata": {},
   "outputs": [
    {
     "data": {
      "text/html": [
       "<div>\n",
       "<style scoped>\n",
       "    .dataframe tbody tr th:only-of-type {\n",
       "        vertical-align: middle;\n",
       "    }\n",
       "\n",
       "    .dataframe tbody tr th {\n",
       "        vertical-align: top;\n",
       "    }\n",
       "\n",
       "    .dataframe thead th {\n",
       "        text-align: right;\n",
       "    }\n",
       "</style>\n",
       "<table border=\"1\" class=\"dataframe\">\n",
       "  <thead>\n",
       "    <tr style=\"text-align: right;\">\n",
       "      <th></th>\n",
       "      <th>I</th>\n",
       "      <th>II</th>\n",
       "      <th>III</th>\n",
       "      <th>IV</th>\n",
       "      <th>V</th>\n",
       "    </tr>\n",
       "  </thead>\n",
       "  <tbody>\n",
       "    <tr>\n",
       "      <th>player1</th>\n",
       "      <td>15</td>\n",
       "      <td>23</td>\n",
       "      <td>57</td>\n",
       "      <td>83</td>\n",
       "      <td>63</td>\n",
       "    </tr>\n",
       "    <tr>\n",
       "      <th>player2</th>\n",
       "      <td>74</td>\n",
       "      <td>87</td>\n",
       "      <td>22</td>\n",
       "      <td>81</td>\n",
       "      <td>50</td>\n",
       "    </tr>\n",
       "    <tr>\n",
       "      <th>player3</th>\n",
       "      <td>86</td>\n",
       "      <td>54</td>\n",
       "      <td>51</td>\n",
       "      <td>10</td>\n",
       "      <td>69</td>\n",
       "    </tr>\n",
       "    <tr>\n",
       "      <th>player4</th>\n",
       "      <td>14</td>\n",
       "      <td>34</td>\n",
       "      <td>60</td>\n",
       "      <td>11</td>\n",
       "      <td>67</td>\n",
       "    </tr>\n",
       "    <tr>\n",
       "      <th>player5</th>\n",
       "      <td>85</td>\n",
       "      <td>84</td>\n",
       "      <td>74</td>\n",
       "      <td>21</td>\n",
       "      <td>20</td>\n",
       "    </tr>\n",
       "  </tbody>\n",
       "</table>\n",
       "</div>"
      ],
      "text/plain": [
       "          I  II  III  IV   V\n",
       "player1  15  23   57  83  63\n",
       "player2  74  87   22  81  50\n",
       "player3  86  54   51  10  69\n",
       "player4  14  34   60  11  67\n",
       "player5  85  84   74  21  20"
      ]
     },
     "execution_count": 39,
     "metadata": {},
     "output_type": "execute_result"
    }
   ],
   "source": [
    "# by default dropped row/column is not removed from dataframe, hence we need to set inplace=True\n",
    "df.drop('VI', axis=1, inplace=True)\n",
    "df"
   ]
  },
  {
   "cell_type": "markdown",
   "id": "b03e3b54",
   "metadata": {},
   "source": [
    "## boolean dataframe"
   ]
  },
  {
   "cell_type": "code",
   "execution_count": 46,
   "id": "a822d636",
   "metadata": {},
   "outputs": [
    {
     "data": {
      "text/html": [
       "<div>\n",
       "<style scoped>\n",
       "    .dataframe tbody tr th:only-of-type {\n",
       "        vertical-align: middle;\n",
       "    }\n",
       "\n",
       "    .dataframe tbody tr th {\n",
       "        vertical-align: top;\n",
       "    }\n",
       "\n",
       "    .dataframe thead th {\n",
       "        text-align: right;\n",
       "    }\n",
       "</style>\n",
       "<table border=\"1\" class=\"dataframe\">\n",
       "  <thead>\n",
       "    <tr style=\"text-align: right;\">\n",
       "      <th></th>\n",
       "      <th>I</th>\n",
       "      <th>II</th>\n",
       "      <th>III</th>\n",
       "      <th>IV</th>\n",
       "      <th>V</th>\n",
       "    </tr>\n",
       "  </thead>\n",
       "  <tbody>\n",
       "    <tr>\n",
       "      <th>player1</th>\n",
       "      <td>False</td>\n",
       "      <td>False</td>\n",
       "      <td>True</td>\n",
       "      <td>True</td>\n",
       "      <td>True</td>\n",
       "    </tr>\n",
       "    <tr>\n",
       "      <th>player2</th>\n",
       "      <td>True</td>\n",
       "      <td>True</td>\n",
       "      <td>False</td>\n",
       "      <td>True</td>\n",
       "      <td>False</td>\n",
       "    </tr>\n",
       "    <tr>\n",
       "      <th>player3</th>\n",
       "      <td>True</td>\n",
       "      <td>True</td>\n",
       "      <td>True</td>\n",
       "      <td>False</td>\n",
       "      <td>True</td>\n",
       "    </tr>\n",
       "    <tr>\n",
       "      <th>player4</th>\n",
       "      <td>False</td>\n",
       "      <td>False</td>\n",
       "      <td>True</td>\n",
       "      <td>False</td>\n",
       "      <td>True</td>\n",
       "    </tr>\n",
       "    <tr>\n",
       "      <th>player5</th>\n",
       "      <td>True</td>\n",
       "      <td>True</td>\n",
       "      <td>True</td>\n",
       "      <td>False</td>\n",
       "      <td>False</td>\n",
       "    </tr>\n",
       "  </tbody>\n",
       "</table>\n",
       "</div>"
      ],
      "text/plain": [
       "             I     II    III     IV      V\n",
       "player1  False  False   True   True   True\n",
       "player2   True   True  False   True  False\n",
       "player3   True   True   True  False   True\n",
       "player4  False  False   True  False   True\n",
       "player5   True   True   True  False  False"
      ]
     },
     "execution_count": 46,
     "metadata": {},
     "output_type": "execute_result"
    }
   ],
   "source": [
    "# compare all the values of the data frame and return True if it is greater than 50\n",
    "df > 50"
   ]
  },
  {
   "cell_type": "code",
   "execution_count": 48,
   "id": "64e3ded7",
   "metadata": {},
   "outputs": [
    {
     "data": {
      "text/html": [
       "<div>\n",
       "<style scoped>\n",
       "    .dataframe tbody tr th:only-of-type {\n",
       "        vertical-align: middle;\n",
       "    }\n",
       "\n",
       "    .dataframe tbody tr th {\n",
       "        vertical-align: top;\n",
       "    }\n",
       "\n",
       "    .dataframe thead th {\n",
       "        text-align: right;\n",
       "    }\n",
       "</style>\n",
       "<table border=\"1\" class=\"dataframe\">\n",
       "  <thead>\n",
       "    <tr style=\"text-align: right;\">\n",
       "      <th></th>\n",
       "      <th>I</th>\n",
       "      <th>II</th>\n",
       "      <th>III</th>\n",
       "      <th>IV</th>\n",
       "      <th>V</th>\n",
       "    </tr>\n",
       "  </thead>\n",
       "  <tbody>\n",
       "    <tr>\n",
       "      <th>player1</th>\n",
       "      <td>NaN</td>\n",
       "      <td>NaN</td>\n",
       "      <td>57.0</td>\n",
       "      <td>83.0</td>\n",
       "      <td>63.0</td>\n",
       "    </tr>\n",
       "    <tr>\n",
       "      <th>player2</th>\n",
       "      <td>74.0</td>\n",
       "      <td>87.0</td>\n",
       "      <td>NaN</td>\n",
       "      <td>81.0</td>\n",
       "      <td>NaN</td>\n",
       "    </tr>\n",
       "    <tr>\n",
       "      <th>player3</th>\n",
       "      <td>86.0</td>\n",
       "      <td>54.0</td>\n",
       "      <td>51.0</td>\n",
       "      <td>NaN</td>\n",
       "      <td>69.0</td>\n",
       "    </tr>\n",
       "    <tr>\n",
       "      <th>player4</th>\n",
       "      <td>NaN</td>\n",
       "      <td>NaN</td>\n",
       "      <td>60.0</td>\n",
       "      <td>NaN</td>\n",
       "      <td>67.0</td>\n",
       "    </tr>\n",
       "    <tr>\n",
       "      <th>player5</th>\n",
       "      <td>85.0</td>\n",
       "      <td>84.0</td>\n",
       "      <td>74.0</td>\n",
       "      <td>NaN</td>\n",
       "      <td>NaN</td>\n",
       "    </tr>\n",
       "  </tbody>\n",
       "</table>\n",
       "</div>"
      ],
      "text/plain": [
       "            I    II   III    IV     V\n",
       "player1   NaN   NaN  57.0  83.0  63.0\n",
       "player2  74.0  87.0   NaN  81.0   NaN\n",
       "player3  86.0  54.0  51.0   NaN  69.0\n",
       "player4   NaN   NaN  60.0   NaN  67.0\n",
       "player5  85.0  84.0  74.0   NaN   NaN"
      ]
     },
     "execution_count": 48,
     "metadata": {},
     "output_type": "execute_result"
    }
   ],
   "source": [
    "# for all the False value the data frame will have NaN\n",
    "df[df > 50]"
   ]
  },
  {
   "cell_type": "markdown",
   "id": "ecd73590",
   "metadata": {},
   "source": [
    "## get all players (example: player1, player2, etc) of a given column (example: I, II, etc.) whose value is greater than 50"
   ]
  },
  {
   "cell_type": "code",
   "execution_count": 67,
   "id": "1265e673",
   "metadata": {},
   "outputs": [
    {
     "data": {
      "text/html": [
       "<div>\n",
       "<style scoped>\n",
       "    .dataframe tbody tr th:only-of-type {\n",
       "        vertical-align: middle;\n",
       "    }\n",
       "\n",
       "    .dataframe tbody tr th {\n",
       "        vertical-align: top;\n",
       "    }\n",
       "\n",
       "    .dataframe thead th {\n",
       "        text-align: right;\n",
       "    }\n",
       "</style>\n",
       "<table border=\"1\" class=\"dataframe\">\n",
       "  <thead>\n",
       "    <tr style=\"text-align: right;\">\n",
       "      <th></th>\n",
       "      <th>I</th>\n",
       "      <th>II</th>\n",
       "      <th>III</th>\n",
       "      <th>IV</th>\n",
       "      <th>V</th>\n",
       "    </tr>\n",
       "  </thead>\n",
       "  <tbody>\n",
       "    <tr>\n",
       "      <th>player1</th>\n",
       "      <td>15</td>\n",
       "      <td>23</td>\n",
       "      <td>57</td>\n",
       "      <td>83</td>\n",
       "      <td>63</td>\n",
       "    </tr>\n",
       "    <tr>\n",
       "      <th>player2</th>\n",
       "      <td>74</td>\n",
       "      <td>87</td>\n",
       "      <td>22</td>\n",
       "      <td>81</td>\n",
       "      <td>50</td>\n",
       "    </tr>\n",
       "    <tr>\n",
       "      <th>player3</th>\n",
       "      <td>86</td>\n",
       "      <td>54</td>\n",
       "      <td>51</td>\n",
       "      <td>10</td>\n",
       "      <td>69</td>\n",
       "    </tr>\n",
       "    <tr>\n",
       "      <th>player4</th>\n",
       "      <td>14</td>\n",
       "      <td>34</td>\n",
       "      <td>60</td>\n",
       "      <td>11</td>\n",
       "      <td>67</td>\n",
       "    </tr>\n",
       "    <tr>\n",
       "      <th>player5</th>\n",
       "      <td>85</td>\n",
       "      <td>84</td>\n",
       "      <td>74</td>\n",
       "      <td>21</td>\n",
       "      <td>20</td>\n",
       "    </tr>\n",
       "  </tbody>\n",
       "</table>\n",
       "</div>"
      ],
      "text/plain": [
       "          I  II  III  IV   V\n",
       "player1  15  23   57  83  63\n",
       "player2  74  87   22  81  50\n",
       "player3  86  54   51  10  69\n",
       "player4  14  34   60  11  67\n",
       "player5  85  84   74  21  20"
      ]
     },
     "execution_count": 67,
     "metadata": {},
     "output_type": "execute_result"
    }
   ],
   "source": [
    "df"
   ]
  },
  {
   "cell_type": "code",
   "execution_count": 68,
   "id": "fc4f69c0",
   "metadata": {},
   "outputs": [
    {
     "data": {
      "text/plain": [
       "player1    False\n",
       "player2     True\n",
       "player3     True\n",
       "player4    False\n",
       "player5     True\n",
       "Name: I, dtype: bool"
      ]
     },
     "execution_count": 68,
     "metadata": {},
     "output_type": "execute_result"
    }
   ],
   "source": [
    "df['I'] > 50"
   ]
  },
  {
   "cell_type": "code",
   "execution_count": 69,
   "id": "bfdbb70e",
   "metadata": {},
   "outputs": [
    {
     "data": {
      "text/html": [
       "<div>\n",
       "<style scoped>\n",
       "    .dataframe tbody tr th:only-of-type {\n",
       "        vertical-align: middle;\n",
       "    }\n",
       "\n",
       "    .dataframe tbody tr th {\n",
       "        vertical-align: top;\n",
       "    }\n",
       "\n",
       "    .dataframe thead th {\n",
       "        text-align: right;\n",
       "    }\n",
       "</style>\n",
       "<table border=\"1\" class=\"dataframe\">\n",
       "  <thead>\n",
       "    <tr style=\"text-align: right;\">\n",
       "      <th></th>\n",
       "      <th>I</th>\n",
       "      <th>II</th>\n",
       "      <th>III</th>\n",
       "      <th>IV</th>\n",
       "      <th>V</th>\n",
       "    </tr>\n",
       "  </thead>\n",
       "  <tbody>\n",
       "    <tr>\n",
       "      <th>player2</th>\n",
       "      <td>74</td>\n",
       "      <td>87</td>\n",
       "      <td>22</td>\n",
       "      <td>81</td>\n",
       "      <td>50</td>\n",
       "    </tr>\n",
       "    <tr>\n",
       "      <th>player3</th>\n",
       "      <td>86</td>\n",
       "      <td>54</td>\n",
       "      <td>51</td>\n",
       "      <td>10</td>\n",
       "      <td>69</td>\n",
       "    </tr>\n",
       "    <tr>\n",
       "      <th>player5</th>\n",
       "      <td>85</td>\n",
       "      <td>84</td>\n",
       "      <td>74</td>\n",
       "      <td>21</td>\n",
       "      <td>20</td>\n",
       "    </tr>\n",
       "  </tbody>\n",
       "</table>\n",
       "</div>"
      ],
      "text/plain": [
       "          I  II  III  IV   V\n",
       "player2  74  87   22  81  50\n",
       "player3  86  54   51  10  69\n",
       "player5  85  84   74  21  20"
      ]
     },
     "execution_count": 69,
     "metadata": {},
     "output_type": "execute_result"
    }
   ],
   "source": [
    "df[df['I'] > 50]"
   ]
  },
  {
   "cell_type": "code",
   "execution_count": 70,
   "id": "85228fde",
   "metadata": {},
   "outputs": [
    {
     "data": {
      "text/plain": [
       "player2    74\n",
       "player3    86\n",
       "player5    85\n",
       "Name: I, dtype: int64"
      ]
     },
     "execution_count": 70,
     "metadata": {},
     "output_type": "execute_result"
    }
   ],
   "source": [
    "df[df['I'] > 50]['I']"
   ]
  },
  {
   "cell_type": "markdown",
   "id": "cf0c5371",
   "metadata": {},
   "source": [
    "## get all players (example: player1, player2, etc) of a given column (example: I, II, etc.) whose value is greater than 50"
   ]
  },
  {
   "cell_type": "code",
   "execution_count": 71,
   "id": "1cc185d5",
   "metadata": {},
   "outputs": [
    {
     "data": {
      "text/html": [
       "<div>\n",
       "<style scoped>\n",
       "    .dataframe tbody tr th:only-of-type {\n",
       "        vertical-align: middle;\n",
       "    }\n",
       "\n",
       "    .dataframe tbody tr th {\n",
       "        vertical-align: top;\n",
       "    }\n",
       "\n",
       "    .dataframe thead th {\n",
       "        text-align: right;\n",
       "    }\n",
       "</style>\n",
       "<table border=\"1\" class=\"dataframe\">\n",
       "  <thead>\n",
       "    <tr style=\"text-align: right;\">\n",
       "      <th></th>\n",
       "      <th>I</th>\n",
       "      <th>II</th>\n",
       "      <th>III</th>\n",
       "      <th>IV</th>\n",
       "      <th>V</th>\n",
       "    </tr>\n",
       "  </thead>\n",
       "  <tbody>\n",
       "    <tr>\n",
       "      <th>player1</th>\n",
       "      <td>15</td>\n",
       "      <td>23</td>\n",
       "      <td>57</td>\n",
       "      <td>83</td>\n",
       "      <td>63</td>\n",
       "    </tr>\n",
       "    <tr>\n",
       "      <th>player2</th>\n",
       "      <td>74</td>\n",
       "      <td>87</td>\n",
       "      <td>22</td>\n",
       "      <td>81</td>\n",
       "      <td>50</td>\n",
       "    </tr>\n",
       "    <tr>\n",
       "      <th>player3</th>\n",
       "      <td>86</td>\n",
       "      <td>54</td>\n",
       "      <td>51</td>\n",
       "      <td>10</td>\n",
       "      <td>69</td>\n",
       "    </tr>\n",
       "    <tr>\n",
       "      <th>player4</th>\n",
       "      <td>14</td>\n",
       "      <td>34</td>\n",
       "      <td>60</td>\n",
       "      <td>11</td>\n",
       "      <td>67</td>\n",
       "    </tr>\n",
       "    <tr>\n",
       "      <th>player5</th>\n",
       "      <td>85</td>\n",
       "      <td>84</td>\n",
       "      <td>74</td>\n",
       "      <td>21</td>\n",
       "      <td>20</td>\n",
       "    </tr>\n",
       "  </tbody>\n",
       "</table>\n",
       "</div>"
      ],
      "text/plain": [
       "          I  II  III  IV   V\n",
       "player1  15  23   57  83  63\n",
       "player2  74  87   22  81  50\n",
       "player3  86  54   51  10  69\n",
       "player4  14  34   60  11  67\n",
       "player5  85  84   74  21  20"
      ]
     },
     "execution_count": 71,
     "metadata": {},
     "output_type": "execute_result"
    }
   ],
   "source": [
    "df"
   ]
  },
  {
   "cell_type": "code",
   "execution_count": 72,
   "id": "9aa261e5",
   "metadata": {},
   "outputs": [
    {
     "data": {
      "text/plain": [
       "player1    False\n",
       "player2     True\n",
       "player3     True\n",
       "player4    False\n",
       "player5     True\n",
       "Name: I, dtype: bool"
      ]
     },
     "execution_count": 72,
     "metadata": {},
     "output_type": "execute_result"
    }
   ],
   "source": [
    "bool_series_game_I = df['I'] > 50\n",
    "bool_series_game_I"
   ]
  },
  {
   "cell_type": "code",
   "execution_count": 74,
   "id": "3a8b13aa",
   "metadata": {
    "scrolled": true
   },
   "outputs": [
    {
     "data": {
      "text/plain": [
       "player1     True\n",
       "player2     True\n",
       "player3    False\n",
       "player4    False\n",
       "player5    False\n",
       "Name: IV, dtype: bool"
      ]
     },
     "execution_count": 74,
     "metadata": {},
     "output_type": "execute_result"
    }
   ],
   "source": [
    "bool_series_game_IV = df['IV'] > 50\n",
    "bool_series_game_IV"
   ]
  },
  {
   "cell_type": "code",
   "execution_count": 75,
   "id": "dcf6eba0",
   "metadata": {},
   "outputs": [
    {
     "data": {
      "text/plain": [
       "player1    False\n",
       "player2     True\n",
       "player3    False\n",
       "player4    False\n",
       "player5    False\n",
       "dtype: bool"
      ]
     },
     "execution_count": 75,
     "metadata": {},
     "output_type": "execute_result"
    }
   ],
   "source": [
    "bool_series_game_I & bool_series_game_IV"
   ]
  },
  {
   "cell_type": "code",
   "execution_count": 76,
   "id": "3b2fda26",
   "metadata": {},
   "outputs": [
    {
     "data": {
      "text/html": [
       "<div>\n",
       "<style scoped>\n",
       "    .dataframe tbody tr th:only-of-type {\n",
       "        vertical-align: middle;\n",
       "    }\n",
       "\n",
       "    .dataframe tbody tr th {\n",
       "        vertical-align: top;\n",
       "    }\n",
       "\n",
       "    .dataframe thead th {\n",
       "        text-align: right;\n",
       "    }\n",
       "</style>\n",
       "<table border=\"1\" class=\"dataframe\">\n",
       "  <thead>\n",
       "    <tr style=\"text-align: right;\">\n",
       "      <th></th>\n",
       "      <th>I</th>\n",
       "      <th>II</th>\n",
       "      <th>III</th>\n",
       "      <th>IV</th>\n",
       "      <th>V</th>\n",
       "    </tr>\n",
       "  </thead>\n",
       "  <tbody>\n",
       "    <tr>\n",
       "      <th>player2</th>\n",
       "      <td>74</td>\n",
       "      <td>87</td>\n",
       "      <td>22</td>\n",
       "      <td>81</td>\n",
       "      <td>50</td>\n",
       "    </tr>\n",
       "  </tbody>\n",
       "</table>\n",
       "</div>"
      ],
      "text/plain": [
       "          I  II  III  IV   V\n",
       "player2  74  87   22  81  50"
      ]
     },
     "execution_count": 76,
     "metadata": {},
     "output_type": "execute_result"
    }
   ],
   "source": [
    "df[bool_series_game_I & bool_series_game_IV]"
   ]
  },
  {
   "cell_type": "code",
   "execution_count": 79,
   "id": "b1c50a31",
   "metadata": {},
   "outputs": [
    {
     "data": {
      "text/html": [
       "<div>\n",
       "<style scoped>\n",
       "    .dataframe tbody tr th:only-of-type {\n",
       "        vertical-align: middle;\n",
       "    }\n",
       "\n",
       "    .dataframe tbody tr th {\n",
       "        vertical-align: top;\n",
       "    }\n",
       "\n",
       "    .dataframe thead th {\n",
       "        text-align: right;\n",
       "    }\n",
       "</style>\n",
       "<table border=\"1\" class=\"dataframe\">\n",
       "  <thead>\n",
       "    <tr style=\"text-align: right;\">\n",
       "      <th></th>\n",
       "      <th>I</th>\n",
       "      <th>IV</th>\n",
       "    </tr>\n",
       "  </thead>\n",
       "  <tbody>\n",
       "    <tr>\n",
       "      <th>player2</th>\n",
       "      <td>74</td>\n",
       "      <td>81</td>\n",
       "    </tr>\n",
       "  </tbody>\n",
       "</table>\n",
       "</div>"
      ],
      "text/plain": [
       "          I  IV\n",
       "player2  74  81"
      ]
     },
     "execution_count": 79,
     "metadata": {},
     "output_type": "execute_result"
    }
   ],
   "source": [
    "df[bool_series_game_I & bool_series_game_IV][['I','IV']]"
   ]
  },
  {
   "cell_type": "code",
   "execution_count": 80,
   "id": "1e5f40aa",
   "metadata": {},
   "outputs": [
    {
     "data": {
      "text/html": [
       "<div>\n",
       "<style scoped>\n",
       "    .dataframe tbody tr th:only-of-type {\n",
       "        vertical-align: middle;\n",
       "    }\n",
       "\n",
       "    .dataframe tbody tr th {\n",
       "        vertical-align: top;\n",
       "    }\n",
       "\n",
       "    .dataframe thead th {\n",
       "        text-align: right;\n",
       "    }\n",
       "</style>\n",
       "<table border=\"1\" class=\"dataframe\">\n",
       "  <thead>\n",
       "    <tr style=\"text-align: right;\">\n",
       "      <th></th>\n",
       "      <th>I</th>\n",
       "      <th>IV</th>\n",
       "    </tr>\n",
       "  </thead>\n",
       "  <tbody>\n",
       "    <tr>\n",
       "      <th>player2</th>\n",
       "      <td>74</td>\n",
       "      <td>81</td>\n",
       "    </tr>\n",
       "  </tbody>\n",
       "</table>\n",
       "</div>"
      ],
      "text/plain": [
       "          I  IV\n",
       "player2  74  81"
      ]
     },
     "execution_count": 80,
     "metadata": {},
     "output_type": "execute_result"
    }
   ],
   "source": [
    "df[(df['I'] > 50) & (df['IV'] > 50)][['I','IV']]"
   ]
  },
  {
   "cell_type": "code",
   "execution_count": null,
   "id": "09e554ea",
   "metadata": {},
   "outputs": [],
   "source": []
  }
 ],
 "metadata": {
  "kernelspec": {
   "display_name": "Python 3 (ipykernel)",
   "language": "python",
   "name": "python3"
  },
  "language_info": {
   "codemirror_mode": {
    "name": "ipython",
    "version": 3
   },
   "file_extension": ".py",
   "mimetype": "text/x-python",
   "name": "python",
   "nbconvert_exporter": "python",
   "pygments_lexer": "ipython3",
   "version": "3.9.12"
  }
 },
 "nbformat": 4,
 "nbformat_minor": 5
}
