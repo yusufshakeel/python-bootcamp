{
 "cells": [
  {
   "cell_type": "code",
   "execution_count": 47,
   "id": "d3a5aefe",
   "metadata": {},
   "outputs": [],
   "source": [
    "import numpy as np"
   ]
  },
  {
   "cell_type": "markdown",
   "id": "49a99644",
   "metadata": {},
   "source": [
    "## 1d array"
   ]
  },
  {
   "cell_type": "code",
   "execution_count": 86,
   "id": "c70988ca",
   "metadata": {},
   "outputs": [
    {
     "data": {
      "text/plain": [
       "array([10, 20, 30])"
      ]
     },
     "execution_count": 86,
     "metadata": {},
     "output_type": "execute_result"
    }
   ],
   "source": [
    "arr_list = [10, 20, 30]\n",
    "arr = np.array(arr_list)\n",
    "arr"
   ]
  },
  {
   "cell_type": "markdown",
   "id": "4bba9924",
   "metadata": {},
   "source": [
    "## 2d array"
   ]
  },
  {
   "cell_type": "code",
   "execution_count": 87,
   "id": "c5c76ac5",
   "metadata": {},
   "outputs": [
    {
     "data": {
      "text/plain": [
       "array([[1, 2, 3],\n",
       "       [4, 5, 6],\n",
       "       [7, 8, 9]])"
      ]
     },
     "execution_count": 87,
     "metadata": {},
     "output_type": "execute_result"
    }
   ],
   "source": [
    "arr_2d = [\n",
    "    [1, 2, 3],\n",
    "    [4, 5, 6],\n",
    "    [7, 8, 9]\n",
    "]\n",
    "arr = np.array(arr_2d)\n",
    "arr"
   ]
  },
  {
   "cell_type": "markdown",
   "id": "8e4b1360",
   "metadata": {},
   "source": [
    "## 1d array using `arange()`"
   ]
  },
  {
   "cell_type": "code",
   "execution_count": 52,
   "id": "f55e5c66",
   "metadata": {},
   "outputs": [
    {
     "data": {
      "text/plain": [
       "array([0, 1, 2, 3, 4, 5, 6, 7, 8, 9])"
      ]
     },
     "execution_count": 52,
     "metadata": {},
     "output_type": "execute_result"
    }
   ],
   "source": [
    "np.arange(0, 10)"
   ]
  },
  {
   "cell_type": "code",
   "execution_count": 53,
   "id": "1c50ba4a",
   "metadata": {},
   "outputs": [
    {
     "data": {
      "text/plain": [
       "array([1, 3, 5, 7, 9])"
      ]
     },
     "execution_count": 53,
     "metadata": {},
     "output_type": "execute_result"
    }
   ],
   "source": [
    "# create array of odd numbers\n",
    "np.arange(1, 10, 2)"
   ]
  },
  {
   "cell_type": "code",
   "execution_count": 54,
   "id": "94bc93c1",
   "metadata": {},
   "outputs": [
    {
     "data": {
      "text/plain": [
       "array([0, 2, 4, 6, 8])"
      ]
     },
     "execution_count": 54,
     "metadata": {},
     "output_type": "execute_result"
    }
   ],
   "source": [
    "# create array of even numbers\n",
    "np.arange(0, 10, 2)"
   ]
  },
  {
   "cell_type": "markdown",
   "id": "c325b19e",
   "metadata": {},
   "source": [
    "## 1d array using `zeros()` and `ones()`"
   ]
  },
  {
   "cell_type": "code",
   "execution_count": 55,
   "id": "a273914a",
   "metadata": {},
   "outputs": [
    {
     "data": {
      "text/plain": [
       "array([0., 0., 0., 0., 0.])"
      ]
     },
     "execution_count": 55,
     "metadata": {},
     "output_type": "execute_result"
    }
   ],
   "source": [
    "# create array filled with zeros\n",
    "np.zeros(5)"
   ]
  },
  {
   "cell_type": "code",
   "execution_count": 56,
   "id": "bdd95b10",
   "metadata": {},
   "outputs": [
    {
     "data": {
      "text/plain": [
       "array([1., 1., 1., 1., 1.])"
      ]
     },
     "execution_count": 56,
     "metadata": {},
     "output_type": "execute_result"
    }
   ],
   "source": [
    "# create array filled with ones\n",
    "np.ones(5)"
   ]
  },
  {
   "cell_type": "markdown",
   "id": "05969d2b",
   "metadata": {},
   "source": [
    "## 2d array using `zeros()` and `ones()`"
   ]
  },
  {
   "cell_type": "code",
   "execution_count": 57,
   "id": "72b1dbcf",
   "metadata": {},
   "outputs": [
    {
     "data": {
      "text/plain": [
       "array([[0., 0., 0.],\n",
       "       [0., 0., 0.]])"
      ]
     },
     "execution_count": 57,
     "metadata": {},
     "output_type": "execute_result"
    }
   ],
   "source": [
    "# create 2d array having 2 rows and 3 columns and fill it with zeros\n",
    "np.zeros((2, 3))"
   ]
  },
  {
   "cell_type": "code",
   "execution_count": 58,
   "id": "bfdc7675",
   "metadata": {},
   "outputs": [
    {
     "data": {
      "text/plain": [
       "array([[1., 1., 1.],\n",
       "       [1., 1., 1.],\n",
       "       [1., 1., 1.]])"
      ]
     },
     "execution_count": 58,
     "metadata": {},
     "output_type": "execute_result"
    }
   ],
   "source": [
    "# create 2d array having 3 rows and 3 columns and fill it with ones\n",
    "np.ones((3, 3))"
   ]
  },
  {
   "cell_type": "markdown",
   "id": "8c8944df",
   "metadata": {},
   "source": [
    "## create array having equally spaced elements"
   ]
  },
  {
   "cell_type": "code",
   "execution_count": 59,
   "id": "c5658579",
   "metadata": {},
   "outputs": [
    {
     "data": {
      "text/plain": [
       "array([ 0. ,  2.5,  5. ,  7.5, 10. ])"
      ]
     },
     "execution_count": 59,
     "metadata": {},
     "output_type": "execute_result"
    }
   ],
   "source": [
    "# create an 1d array having 5 equally spaced numbers between 0 and 10.\n",
    "np.linspace(0, 10, 5)"
   ]
  },
  {
   "cell_type": "markdown",
   "id": "39e9f9ca",
   "metadata": {},
   "source": [
    "## create identity matrix"
   ]
  },
  {
   "cell_type": "code",
   "execution_count": 60,
   "id": "9495d773",
   "metadata": {},
   "outputs": [
    {
     "data": {
      "text/plain": [
       "array([[1., 0., 0., 0.],\n",
       "       [0., 1., 0., 0.],\n",
       "       [0., 0., 1., 0.],\n",
       "       [0., 0., 0., 1.]])"
      ]
     },
     "execution_count": 60,
     "metadata": {},
     "output_type": "execute_result"
    }
   ],
   "source": [
    "# create a 4x4 identity matrix\n",
    "np.eye(4)"
   ]
  },
  {
   "cell_type": "markdown",
   "id": "75c9ca90",
   "metadata": {},
   "source": [
    "## create array filled with random numbers from a uniform distribution between 0 and 1"
   ]
  },
  {
   "cell_type": "code",
   "execution_count": 61,
   "id": "d96b58b7",
   "metadata": {},
   "outputs": [
    {
     "data": {
      "text/plain": [
       "array([0.5910472 , 0.32966342, 0.55715485, 0.10323663, 0.53670446,\n",
       "       0.93930957, 0.90509462, 0.13972847, 0.54977689, 0.82854503])"
      ]
     },
     "execution_count": 61,
     "metadata": {},
     "output_type": "execute_result"
    }
   ],
   "source": [
    "# create an 1d array having 10 elements uniformally distributed between 0 and 1\n",
    "np.random.rand(10)"
   ]
  },
  {
   "cell_type": "code",
   "execution_count": 62,
   "id": "33cc6b3c",
   "metadata": {},
   "outputs": [
    {
     "data": {
      "text/plain": [
       "array([[0.02576343, 0.50019147, 0.57380709],\n",
       "       [0.7889919 , 0.48312402, 0.67542072]])"
      ]
     },
     "execution_count": 62,
     "metadata": {},
     "output_type": "execute_result"
    }
   ],
   "source": [
    "# create a 2d array having 2 rows and 3 columns and filled with uniformally distributed numbers betweem 0 and 1\n",
    "np.random.rand(2, 3)"
   ]
  },
  {
   "cell_type": "markdown",
   "id": "2712686d",
   "metadata": {},
   "source": [
    "## create array filled with random numbers from a standard normal distribution between 0 and 1"
   ]
  },
  {
   "cell_type": "code",
   "execution_count": 63,
   "id": "83c8ead1",
   "metadata": {},
   "outputs": [
    {
     "data": {
      "text/plain": [
       "array([-0.76115095, -0.26042222, -0.4414572 , -1.18509389, -0.07083081,\n",
       "       -0.4120991 , -0.91208843, -0.39256069, -0.69392368,  2.01741854])"
      ]
     },
     "execution_count": 63,
     "metadata": {},
     "output_type": "execute_result"
    }
   ],
   "source": [
    "# create an 1d array having 10 elements and filled with normal distribution number between 0 and 1\n",
    "np.random.randn(10)"
   ]
  },
  {
   "cell_type": "code",
   "execution_count": 68,
   "id": "438756bd",
   "metadata": {},
   "outputs": [
    {
     "data": {
      "text/plain": [
       "array([[-0.68157095, -0.99701994, -0.6661533 ],\n",
       "       [-0.12011607,  0.59210615,  1.07941804]])"
      ]
     },
     "execution_count": 68,
     "metadata": {},
     "output_type": "execute_result"
    }
   ],
   "source": [
    "# create a 2d array having 2 rows and 3 columns and fill it with normal distribution number between 0 and 1\n",
    "np.random.randn(2, 3)"
   ]
  },
  {
   "cell_type": "markdown",
   "id": "a623a2ea",
   "metadata": {},
   "source": [
    "## get random integer"
   ]
  },
  {
   "cell_type": "code",
   "execution_count": 69,
   "id": "e88e0511",
   "metadata": {},
   "outputs": [
    {
     "data": {
      "text/plain": [
       "96"
      ]
     },
     "execution_count": 69,
     "metadata": {},
     "output_type": "execute_result"
    }
   ],
   "source": [
    "# random integer between 1 and 100\n",
    "np.random.randint(1, 100)"
   ]
  },
  {
   "cell_type": "code",
   "execution_count": 71,
   "id": "43e8b4f8",
   "metadata": {},
   "outputs": [
    {
     "data": {
      "text/plain": [
       "array([17, 36, 37, 38, 26,  6, 38, 42,  3, 52, 24, 19, 42])"
      ]
     },
     "execution_count": 71,
     "metadata": {},
     "output_type": "execute_result"
    }
   ],
   "source": [
    "# get 13 random numbers between 1 and 52\n",
    "low = 1\n",
    "high = 53\n",
    "np.random.randint(low, high, 13)"
   ]
  },
  {
   "cell_type": "code",
   "execution_count": 75,
   "id": "c692a122",
   "metadata": {},
   "outputs": [
    {
     "data": {
      "text/plain": [
       "array([[1, 0, 2],\n",
       "       [5, 5, 6],\n",
       "       [3, 4, 3]])"
      ]
     },
     "execution_count": 75,
     "metadata": {},
     "output_type": "execute_result"
    }
   ],
   "source": [
    "# create 3x3 random numbers matrix\n",
    "np.random.randint(0, 10, 9).reshape(3, 3)"
   ]
  },
  {
   "cell_type": "markdown",
   "id": "fa64c65b",
   "metadata": {},
   "source": [
    "## min max"
   ]
  },
  {
   "cell_type": "code",
   "execution_count": 81,
   "id": "8a047a25",
   "metadata": {},
   "outputs": [
    {
     "data": {
      "text/plain": [
       "array([58, 83, 39, 71, 72, 81, 10, 81, 26, 96])"
      ]
     },
     "execution_count": 81,
     "metadata": {},
     "output_type": "execute_result"
    }
   ],
   "source": [
    "# generate 10 random integers\n",
    "random_arr = np.random.randint(1, 100, 10)\n",
    "random_arr"
   ]
  },
  {
   "cell_type": "code",
   "execution_count": 82,
   "id": "df54e914",
   "metadata": {},
   "outputs": [
    {
     "data": {
      "text/plain": [
       "96"
      ]
     },
     "execution_count": 82,
     "metadata": {},
     "output_type": "execute_result"
    }
   ],
   "source": [
    "# get maximum value\n",
    "np.max(random_arr)"
   ]
  },
  {
   "cell_type": "code",
   "execution_count": 83,
   "id": "7db48eb7",
   "metadata": {},
   "outputs": [
    {
     "data": {
      "text/plain": [
       "10"
      ]
     },
     "execution_count": 83,
     "metadata": {},
     "output_type": "execute_result"
    }
   ],
   "source": [
    "# get minimum value\n",
    "np.min(random_arr)"
   ]
  },
  {
   "cell_type": "code",
   "execution_count": 84,
   "id": "dc5cca41",
   "metadata": {},
   "outputs": [
    {
     "data": {
      "text/plain": [
       "9"
      ]
     },
     "execution_count": 84,
     "metadata": {},
     "output_type": "execute_result"
    }
   ],
   "source": [
    "# get maximum value's index\n",
    "np.argmax(random_arr)"
   ]
  },
  {
   "cell_type": "code",
   "execution_count": 88,
   "id": "423f1cae",
   "metadata": {},
   "outputs": [
    {
     "data": {
      "text/plain": [
       "6"
      ]
     },
     "execution_count": 88,
     "metadata": {},
     "output_type": "execute_result"
    }
   ],
   "source": [
    "# get minimum value's index\n",
    "np.argmin(random_arr)"
   ]
  },
  {
   "cell_type": "markdown",
   "id": "58bee53b",
   "metadata": {},
   "source": [
    "## slice array"
   ]
  },
  {
   "cell_type": "code",
   "execution_count": 90,
   "id": "3b9336bd",
   "metadata": {},
   "outputs": [
    {
     "data": {
      "text/plain": [
       "array([ 0, 10, 20, 30, 40])"
      ]
     },
     "execution_count": 90,
     "metadata": {},
     "output_type": "execute_result"
    }
   ],
   "source": [
    "# slice 1d array and return a subarray\n",
    "arr = np.array([0, 10, 20, 30, 40, 50, 60, 70, 80])\n",
    "arr[0:5]"
   ]
  },
  {
   "cell_type": "code",
   "execution_count": 91,
   "id": "c4031390",
   "metadata": {},
   "outputs": [
    {
     "data": {
      "text/plain": [
       "array([[10],\n",
       "       [40]])"
      ]
     },
     "execution_count": 91,
     "metadata": {},
     "output_type": "execute_result"
    }
   ],
   "source": [
    "# slice 2d array and return a 2d subarray\n",
    "arr = np.array([\n",
    "    [10, 20, 30],\n",
    "    [40, 50, 60],\n",
    "    [70, 80, 90]\n",
    "])\n",
    "arr[0:2, 0:1]"
   ]
  }
 ],
 "metadata": {
  "kernelspec": {
   "display_name": "Python 3 (ipykernel)",
   "language": "python",
   "name": "python3"
  },
  "language_info": {
   "codemirror_mode": {
    "name": "ipython",
    "version": 3
   },
   "file_extension": ".py",
   "mimetype": "text/x-python",
   "name": "python",
   "nbconvert_exporter": "python",
   "pygments_lexer": "ipython3",
   "version": "3.9.12"
  }
 },
 "nbformat": 4,
 "nbformat_minor": 5
}
