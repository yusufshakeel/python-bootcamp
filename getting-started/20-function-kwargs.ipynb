{
 "cells": [
  {
   "cell_type": "markdown",
   "id": "1d1354ed",
   "metadata": {},
   "source": [
    "# function \\*\\*kwargs\n",
    "\n",
    "This represents keyword arguments.\n",
    "\n",
    "```python\n",
    "def foo(**kwargs):\n",
    "  # do something\n",
    "```"
   ]
  },
  {
   "cell_type": "code",
   "execution_count": 1,
   "id": "1b3df8f3",
   "metadata": {},
   "outputs": [
    {
     "name": "stdout",
     "output_type": "stream",
     "text": [
      "{'username': 'yusuf', 'is_online': True, 'score': 5}\n"
     ]
    }
   ],
   "source": [
    "# in the following example we are passing arguments with some key\n",
    "def print_items(**kwargs):\n",
    "    print(kwargs)\n",
    "\n",
    "print_items(username='yusuf', is_online=True, score=5)"
   ]
  },
  {
   "cell_type": "code",
   "execution_count": 2,
   "id": "2ac97c2a",
   "metadata": {},
   "outputs": [
    {
     "name": "stdout",
     "output_type": "stream",
     "text": [
      "<class 'dict'>\n",
      "{'username': 'yusuf', 'is_online': True, 'score': 5}\n"
     ]
    }
   ],
   "source": [
    "# the kwargs is like a dictionary\n",
    "def print_items(**kwargs):\n",
    "    print(type(kwargs))\n",
    "    print(kwargs)\n",
    "\n",
    "print_items(username='yusuf', is_online=True, score=5)"
   ]
  }
 ],
 "metadata": {
  "kernelspec": {
   "display_name": "Python 3 (ipykernel)",
   "language": "python",
   "name": "python3"
  },
  "language_info": {
   "codemirror_mode": {
    "name": "ipython",
    "version": 3
   },
   "file_extension": ".py",
   "mimetype": "text/x-python",
   "name": "python",
   "nbconvert_exporter": "python",
   "pygments_lexer": "ipython3",
   "version": "3.9.13"
  }
 },
 "nbformat": 4,
 "nbformat_minor": 5
}
