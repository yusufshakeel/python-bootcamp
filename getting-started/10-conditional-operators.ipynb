{
 "cells": [
  {
   "cell_type": "markdown",
   "id": "92d32dab",
   "metadata": {},
   "source": [
    "# Conditional Operators"
   ]
  },
  {
   "cell_type": "markdown",
   "id": "5a6c7ab8",
   "metadata": {},
   "source": [
    "### Equality =="
   ]
  },
  {
   "cell_type": "code",
   "execution_count": 1,
   "id": "e9242cdc",
   "metadata": {},
   "outputs": [
    {
     "name": "stdout",
     "output_type": "stream",
     "text": [
      "True\n"
     ]
    }
   ],
   "source": [
    "print(1 == 1)"
   ]
  },
  {
   "cell_type": "code",
   "execution_count": 2,
   "id": "48dd542e",
   "metadata": {},
   "outputs": [
    {
     "name": "stdout",
     "output_type": "stream",
     "text": [
      "True\n"
     ]
    }
   ],
   "source": [
    "print(10.0 == 10)"
   ]
  },
  {
   "cell_type": "code",
   "execution_count": 3,
   "id": "a445193a",
   "metadata": {},
   "outputs": [
    {
     "name": "stdout",
     "output_type": "stream",
     "text": [
      "True\n"
     ]
    }
   ],
   "source": [
    "print('Abc' == 'Abc')"
   ]
  },
  {
   "cell_type": "code",
   "execution_count": 4,
   "id": "c6344027",
   "metadata": {},
   "outputs": [
    {
     "name": "stdout",
     "output_type": "stream",
     "text": [
      "False\n"
     ]
    }
   ],
   "source": [
    "print('1' == 1)"
   ]
  },
  {
   "cell_type": "markdown",
   "id": "4645a740",
   "metadata": {},
   "source": [
    "### Not equal !="
   ]
  },
  {
   "cell_type": "code",
   "execution_count": 5,
   "id": "7698cb8c",
   "metadata": {},
   "outputs": [
    {
     "name": "stdout",
     "output_type": "stream",
     "text": [
      "True\n"
     ]
    }
   ],
   "source": [
    "print (2 != 3)"
   ]
  },
  {
   "cell_type": "markdown",
   "id": "3ee942cb",
   "metadata": {},
   "source": [
    "### Greater than >"
   ]
  },
  {
   "cell_type": "code",
   "execution_count": 6,
   "id": "67188e28",
   "metadata": {},
   "outputs": [
    {
     "name": "stdout",
     "output_type": "stream",
     "text": [
      "True\n"
     ]
    }
   ],
   "source": [
    "print(10 > 2)"
   ]
  },
  {
   "cell_type": "markdown",
   "id": "078b6e45",
   "metadata": {},
   "source": [
    "### Greater than or equal to >="
   ]
  },
  {
   "cell_type": "code",
   "execution_count": 7,
   "id": "0bb559d2",
   "metadata": {},
   "outputs": [
    {
     "name": "stdout",
     "output_type": "stream",
     "text": [
      "True\n"
     ]
    }
   ],
   "source": [
    "print(3 >= 2)"
   ]
  },
  {
   "cell_type": "markdown",
   "id": "3050ef77",
   "metadata": {},
   "source": [
    "### Less than <"
   ]
  },
  {
   "cell_type": "code",
   "execution_count": 8,
   "id": "4f6d10ce",
   "metadata": {},
   "outputs": [
    {
     "name": "stdout",
     "output_type": "stream",
     "text": [
      "True\n"
     ]
    }
   ],
   "source": [
    "print(2 < 3)"
   ]
  },
  {
   "cell_type": "markdown",
   "id": "945a515d",
   "metadata": {},
   "source": [
    "### Less than or equal to <="
   ]
  },
  {
   "cell_type": "code",
   "execution_count": 9,
   "id": "30b784d0",
   "metadata": {},
   "outputs": [
    {
     "name": "stdout",
     "output_type": "stream",
     "text": [
      "True\n"
     ]
    }
   ],
   "source": [
    "print(2 <= 3)"
   ]
  }
 ],
 "metadata": {
  "kernelspec": {
   "display_name": "Python 3 (ipykernel)",
   "language": "python",
   "name": "python3"
  },
  "language_info": {
   "codemirror_mode": {
    "name": "ipython",
    "version": 3
   },
   "file_extension": ".py",
   "mimetype": "text/x-python",
   "name": "python",
   "nbconvert_exporter": "python",
   "pygments_lexer": "ipython3",
   "version": "3.9.13"
  }
 },
 "nbformat": 4,
 "nbformat_minor": 5
}
