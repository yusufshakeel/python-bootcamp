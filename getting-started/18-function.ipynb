{
 "cells": [
  {
   "cell_type": "markdown",
   "id": "96de7783",
   "metadata": {},
   "source": [
    "# Function\n",
    "\n",
    "It is a block of code then executed when we invoke (call) the function.\n",
    "\n",
    "Syntax\n",
    "```python\n",
    "def funct_name(optional_arguments):\n",
    "    '''\n",
    "    docstring that explains what this function is about\n",
    "    '''\n",
    "    # body of the function\n",
    "    \n",
    "    # optional return statement if we want to return any value\n",
    "\n",
    "# calling the function\n",
    "funct_name()\n",
    "```"
   ]
  },
  {
   "cell_type": "markdown",
   "id": "041997cf",
   "metadata": {},
   "source": [
    "# greetings function"
   ]
  },
  {
   "cell_type": "code",
   "execution_count": 1,
   "id": "35ac03ea",
   "metadata": {},
   "outputs": [
    {
     "name": "stdout",
     "output_type": "stream",
     "text": [
      "Hello, World!\n"
     ]
    }
   ],
   "source": [
    "def greetings():\n",
    "    print('Hello, World!')\n",
    "\n",
    "greetings()"
   ]
  },
  {
   "cell_type": "markdown",
   "id": "bdf1926d",
   "metadata": {},
   "source": [
    "## function with arguments"
   ]
  },
  {
   "cell_type": "code",
   "execution_count": 2,
   "id": "779de7a5",
   "metadata": {},
   "outputs": [
    {
     "name": "stdout",
     "output_type": "stream",
     "text": [
      "3\n"
     ]
    }
   ],
   "source": [
    "def add(a, b):\n",
    "    print(a + b)\n",
    "\n",
    "add(1,2)"
   ]
  },
  {
   "cell_type": "markdown",
   "id": "927b52b3",
   "metadata": {},
   "source": [
    "## function with default values for arguments"
   ]
  },
  {
   "cell_type": "code",
   "execution_count": 10,
   "id": "a1338ae6",
   "metadata": {},
   "outputs": [
    {
     "name": "stdout",
     "output_type": "stream",
     "text": [
      "3\n",
      "6\n"
     ]
    }
   ],
   "source": [
    "def add(x, y, z = 0):\n",
    "    print(x + y + z)\n",
    "\n",
    "add(1,2)\n",
    "add(1,2,3)"
   ]
  },
  {
   "cell_type": "markdown",
   "id": "dacfcd2d",
   "metadata": {},
   "source": [
    "## return value from a function"
   ]
  },
  {
   "cell_type": "code",
   "execution_count": 4,
   "id": "c9ad3a1e",
   "metadata": {},
   "outputs": [
    {
     "name": "stdout",
     "output_type": "stream",
     "text": [
      "3\n"
     ]
    }
   ],
   "source": [
    "def add(x, y):\n",
    "    return x + y\n",
    "\n",
    "result = add(1, 2)\n",
    "print(result)"
   ]
  },
  {
   "cell_type": "markdown",
   "id": "371373a6",
   "metadata": {},
   "source": [
    "## `None` is the default return value from a function\n",
    "\n",
    "by default we get `None` return value from a function if there is no explicit `return` statement."
   ]
  },
  {
   "cell_type": "code",
   "execution_count": 7,
   "id": "4afb7f03",
   "metadata": {},
   "outputs": [
    {
     "name": "stdout",
     "output_type": "stream",
     "text": [
      "<class 'NoneType'>\n",
      "True\n"
     ]
    }
   ],
   "source": [
    "def func_without_return(arg):\n",
    "    pass\n",
    "\n",
    "result = func_without_return('hello')\n",
    "\n",
    "print(type(result))\n",
    "print(result == None)"
   ]
  }
 ],
 "metadata": {
  "kernelspec": {
   "display_name": "Python 3 (ipykernel)",
   "language": "python",
   "name": "python3"
  },
  "language_info": {
   "codemirror_mode": {
    "name": "ipython",
    "version": 3
   },
   "file_extension": ".py",
   "mimetype": "text/x-python",
   "name": "python",
   "nbconvert_exporter": "python",
   "pygments_lexer": "ipython3",
   "version": "3.9.13"
  }
 },
 "nbformat": 4,
 "nbformat_minor": 5
}
