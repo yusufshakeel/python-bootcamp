{
 "cells": [
  {
   "cell_type": "markdown",
   "id": "38e67d4e",
   "metadata": {},
   "source": [
    "# Dictionaries\n",
    "\n",
    "It is an unordered collection of key-value pairs.\n",
    "\n",
    "Syntax:\n",
    "\n",
    "```\n",
    "{ 'key': 'value' }\n",
    "```\n",
    "\n",
    "where `key` can be string or number and `value` can be any object."
   ]
  },
  {
   "cell_type": "code",
   "execution_count": 6,
   "id": "ce564eef",
   "metadata": {},
   "outputs": [
    {
     "name": "stdout",
     "output_type": "stream",
     "text": [
      "Is the user online? True\n"
     ]
    }
   ],
   "source": [
    "# in the following example we create a dictionary and then fetch a particular value by key.\n",
    "my_dict = { 'user': 'yusuf', 'isOnline': True }\n",
    "print('Is the user online?', my_dict['isOnline'])"
   ]
  },
  {
   "cell_type": "code",
   "execution_count": 3,
   "id": "83a7f0a6",
   "metadata": {},
   "outputs": [
    {
     "name": "stdout",
     "output_type": "stream",
     "text": [
      "Price of apple is 100 per kg\n"
     ]
    }
   ],
   "source": [
    "# in the following example we are creating menu of fruits and their price perkg\n",
    "my_menu = {\n",
    "    'apple': 100,\n",
    "    'orange': 80,\n",
    "    'mango': 120,\n",
    "    'banana': 60\n",
    "}\n",
    "print(f\"Price of apple is {my_menu['apple']} per kg\")"
   ]
  },
  {
   "cell_type": "markdown",
   "id": "bd14a9e2",
   "metadata": {},
   "source": [
    "## Get all the keys in the dictionary\n",
    "\n",
    "We use the `keys()` function."
   ]
  },
  {
   "cell_type": "code",
   "execution_count": 10,
   "id": "72183117",
   "metadata": {},
   "outputs": [
    {
     "name": "stdout",
     "output_type": "stream",
     "text": [
      "dict_keys(['apple', 'orange', 'mango', 'banana'])\n"
     ]
    }
   ],
   "source": [
    "# in the following example we will print all the keys of the dict\n",
    "keys = my_menu.keys()\n",
    "print(keys)"
   ]
  },
  {
   "cell_type": "markdown",
   "id": "60626222",
   "metadata": {},
   "source": [
    "## Get all the valuse in the dictionary\n",
    "\n",
    "We use the `values()` function."
   ]
  },
  {
   "cell_type": "code",
   "execution_count": 11,
   "id": "df833b1a",
   "metadata": {},
   "outputs": [
    {
     "name": "stdout",
     "output_type": "stream",
     "text": [
      "dict_values([100, 80, 120, 60])\n"
     ]
    }
   ],
   "source": [
    "values = my_menu.values()\n",
    "print(values)"
   ]
  },
  {
   "cell_type": "markdown",
   "id": "5ac40ea2",
   "metadata": {},
   "source": [
    "## Get the key-value pairs in the dictionary\n",
    "\n",
    "We use the `items()` function."
   ]
  },
  {
   "cell_type": "code",
   "execution_count": 12,
   "id": "4a11c561",
   "metadata": {},
   "outputs": [
    {
     "name": "stdout",
     "output_type": "stream",
     "text": [
      "dict_items([('apple', 100), ('orange', 80), ('mango', 120), ('banana', 60)])\n"
     ]
    }
   ],
   "source": [
    "items = my_menu.items()\n",
    "print(items)"
   ]
  }
 ],
 "metadata": {
  "kernelspec": {
   "display_name": "Python 3 (ipykernel)",
   "language": "python",
   "name": "python3"
  },
  "language_info": {
   "codemirror_mode": {
    "name": "ipython",
    "version": 3
   },
   "file_extension": ".py",
   "mimetype": "text/x-python",
   "name": "python",
   "nbconvert_exporter": "python",
   "pygments_lexer": "ipython3",
   "version": "3.9.13"
  }
 },
 "nbformat": 4,
 "nbformat_minor": 5
}
